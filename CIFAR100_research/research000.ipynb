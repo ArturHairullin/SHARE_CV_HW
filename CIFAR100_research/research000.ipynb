{
 "cells": [
  {
   "cell_type": "markdown",
   "metadata": {
    "id": "JcP8rNkYSU9S"
   },
   "source": [
    "Задача: обучить модели на датасете CIFAR100 c ограниченным числом параметров.\n",
    "Необходимо провести исследование и построить кривую в осях количество параметров - качество. \n",
    "Минимальный набор точек для исследования по числу параметров: 1000, 5000, 10000, 50000, 100000, 500000, 1000000.\n",
    "Для сдачи задачи необходимо предоставить код обучения, чекпоинты моделей и визуализацию результатов."
   ]
  },
  {
   "cell_type": "markdown",
   "metadata": {
    "id": "2Abbz0tct8LO"
   },
   "source": [
    "up to 100 000 обязательно\n",
    "\n",
    "исследования и эксперименты\n",
    "\n",
    "поиграться с архитектурами\n",
    "\n",
    "top1 accuracy\n",
    "\n",
    "надо будет рассказать что дало баф и что пробовали\n",
    "\n",
    "если просто каждую один раз обучить, то 15/25 баллов\n",
    "если чуть чуть исследований то 20\n",
    "доп баллы победителям категорий (маленькие круче)\n"
   ]
  },
  {
   "cell_type": "markdown",
   "metadata": {
    "id": "KZ-s6BW35VPW"
   },
   "source": [
    "# load CIFAR-100"
   ]
  },
  {
   "cell_type": "code",
   "execution_count": 1,
   "metadata": {
    "id": "V3IvWw-epvFj"
   },
   "outputs": [],
   "source": [
    "import torch\n",
    "import numpy as np\n",
    "torch.manual_seed(100)\n",
    "\n",
    "from torch.utils.data import Dataset\n",
    "from torchvision import datasets\n",
    "from torchvision.transforms import ToTensor\n",
    "import matplotlib.pyplot as plt"
   ]
  },
  {
   "cell_type": "code",
   "execution_count": 2,
   "metadata": {
    "colab": {
     "base_uri": "https://localhost:8080/"
    },
    "id": "9RuW5Vw6sE1T",
    "outputId": "6474e461-f523-46bc-9754-76490c0d9c57"
   },
   "outputs": [
    {
     "name": "stdout",
     "output_type": "stream",
     "text": [
      "Downloading https://www.cs.toronto.edu/~kriz/cifar-100-python.tar.gz to data\\cifar-100-python.tar.gz\n"
     ]
    },
    {
     "name": "stderr",
     "output_type": "stream",
     "text": [
      "100%|████████████████████████████████████████████████████| 169001437/169001437 [00:29<00:00, 5634734.69it/s]\n"
     ]
    },
    {
     "name": "stdout",
     "output_type": "stream",
     "text": [
      "Extracting data\\cifar-100-python.tar.gz to data\n",
      "Files already downloaded and verified\n"
     ]
    }
   ],
   "source": [
    "training_data = datasets.CIFAR100(\n",
    "    root=\"data\",\n",
    "    train=True,\n",
    "    download=True,\n",
    "    transform=ToTensor()\n",
    ")\n",
    "\n",
    "test_data = datasets.CIFAR100(\n",
    "    root=\"data\",\n",
    "    train=False,\n",
    "    download=True,\n",
    "    transform=ToTensor()\n",
    ")"
   ]
  },
  {
   "cell_type": "code",
   "execution_count": 3,
   "metadata": {
    "id": "NFp__fy8wCKw"
   },
   "outputs": [],
   "source": [
    "classes = \"\"\"0: apple\n",
    "1: aquarium_fish\n",
    "2: baby\n",
    "3: bear\n",
    "4: beaver\n",
    "5: bed\n",
    "6: bee\n",
    "7: beetle\n",
    "8: bicycle\n",
    "9: bottle\n",
    "10: bowl\n",
    "11: boy\n",
    "12: bridge\n",
    "13: bus\n",
    "14: butterfly\n",
    "15: camel\n",
    "16: can\n",
    "17: castle\n",
    "18: caterpillar\n",
    "19: cattle\n",
    "20: chair\n",
    "\n",
    "21: chimpanzee\n",
    "\n",
    "22: clock\n",
    "\n",
    "23: cloud\n",
    "\n",
    "24: cockroach\n",
    "\n",
    "25: couch\n",
    "\n",
    "26: cra\n",
    "\n",
    "27: crocodile\n",
    "\n",
    "28: cup\n",
    "\n",
    "29: dinosaur\n",
    "\n",
    "30: dolphin\n",
    "\n",
    "31: elephant\n",
    "\n",
    "32: flatfish\n",
    "\n",
    "33: forest\n",
    "\n",
    "34: fox\n",
    "\n",
    "35: girl\n",
    "\n",
    "36: hamster\n",
    "\n",
    "37: house\n",
    "\n",
    "38: kangaroo\n",
    "\n",
    "39: keyboard\n",
    "\n",
    "40: lamp\n",
    "\n",
    "41: lawn_mower\n",
    "\n",
    "42: leopard\n",
    "\n",
    "43: lion\n",
    "\n",
    "44: lizard\n",
    "\n",
    "45: lobster\n",
    "\n",
    "46: man\n",
    "\n",
    "47: maple_tree\n",
    "\n",
    "48: motorcycle\n",
    "\n",
    "49: mountain\n",
    "\n",
    "50: mouse\n",
    "\n",
    "51: mushroom\n",
    "\n",
    "52: oak_tree\n",
    "\n",
    "53: orange\n",
    "\n",
    "54: orchid\n",
    "\n",
    "55: otter\n",
    "\n",
    "56: palm_tree\n",
    "\n",
    "57: pear\n",
    "\n",
    "58: pickup_truck\n",
    "\n",
    "59: pine_tree\n",
    "\n",
    "60: plain\n",
    "\n",
    "61: plate\n",
    "\n",
    "62: poppy\n",
    "\n",
    "63: porcupine\n",
    "\n",
    "64: possum\n",
    "\n",
    "65: rabbit\n",
    "\n",
    "66: raccoon\n",
    "\n",
    "67: ray\n",
    "\n",
    "68: road\n",
    "\n",
    "69: rocket\n",
    "\n",
    "70: rose\n",
    "\n",
    "71: sea\n",
    "\n",
    "72: seal\n",
    "\n",
    "73: shark\n",
    "\n",
    "74: shrew\n",
    "\n",
    "75: skunk\n",
    "\n",
    "76: skyscraper\n",
    "\n",
    "77: snail\n",
    "\n",
    "78: snake\n",
    "\n",
    "79: spider\n",
    "\n",
    "80: squirrel\n",
    "\n",
    "81: streetcar\n",
    "\n",
    "82: sunflower\n",
    "\n",
    "83: sweet_pepper\n",
    "\n",
    "84: table\n",
    "\n",
    "85: tank\n",
    "\n",
    "86: telephone\n",
    "\n",
    "87: television\n",
    "\n",
    "88: tiger\n",
    "\n",
    "89: tractor\n",
    "\n",
    "90: train\n",
    "\n",
    "91: trout\n",
    "\n",
    "92: tulip\n",
    "93: turtle\n",
    "94: wardrobe\n",
    "95: whale\n",
    "96: willow_tree\n",
    "97: wolf\n",
    "98: woman\n",
    "99: worm\"\"\""
   ]
  },
  {
   "cell_type": "code",
   "execution_count": 4,
   "metadata": {
    "id": "u1F0Iekl4Ukz"
   },
   "outputs": [],
   "source": [
    "labels = classes.split()[1::2]"
   ]
  },
  {
   "cell_type": "code",
   "execution_count": 5,
   "metadata": {
    "colab": {
     "base_uri": "https://localhost:8080/"
    },
    "id": "04mr027yciaJ",
    "outputId": "e919b172-098f-43e7-dc7d-89120ab881d3"
   },
   "outputs": [
    {
     "data": {
      "text/plain": [
       "100"
      ]
     },
     "execution_count": 5,
     "metadata": {},
     "output_type": "execute_result"
    }
   ],
   "source": [
    "len(labels)"
   ]
  },
  {
   "cell_type": "code",
   "execution_count": 6,
   "metadata": {
    "colab": {
     "base_uri": "https://localhost:8080/",
     "height": 675
    },
    "id": "m51tIVkssoCi",
    "outputId": "d9e7a702-9f2c-4333-9c5f-9dbac8238a83"
   },
   "outputs": [
    {
     "data": {
      "image/png": "[encoded data removed]",
      "text/plain": [
       "<Figure size 800x800 with 9 Axes>"
      ]
     },
     "metadata": {},
     "output_type": "display_data"
    }
   ],
   "source": [
    "figure = plt.figure(figsize=(8, 8))\n",
    "cols, rows = 3, 3\n",
    "for i in range(1, cols * rows + 1):\n",
    "    sample_idx = torch.randint(len(training_data), size=(1,)).item() # Случайный индекс из датасета\n",
    "    img, label = training_data[sample_idx] # Обращение по такому индексу возвращает изображение и метку элемента датасета\n",
    "    figure.add_subplot(rows, cols, i)\n",
    "    plt.title(labels[label])\n",
    "    plt.axis(\"off\")\n",
    "    plt.imshow(np.moveaxis(img.numpy(),0,-1))\n",
    "plt.show()"
   ]
  },
  {
   "cell_type": "code",
   "execution_count": 7,
   "metadata": {
    "colab": {
     "base_uri": "https://localhost:8080/"
    },
    "id": "wN-TDTw9bzSN",
    "outputId": "9319cafd-69d5-436d-ec80-a35b09c2350e"
   },
   "outputs": [
    {
     "data": {
      "text/plain": [
       "(3, 32, 32)"
      ]
     },
     "execution_count": 7,
     "metadata": {},
     "output_type": "execute_result"
    }
   ],
   "source": [
    "img.numpy().shape"
   ]
  },
  {
   "cell_type": "code",
   "execution_count": 8,
   "metadata": {
    "id": "4jfT5KOQ6SS6"
   },
   "outputs": [],
   "source": [
    "from torch.utils.data import DataLoader\n",
    "\n",
    "train_dataloader = DataLoader(training_data, batch_size=64, shuffle=True)\n",
    "test_dataloader = DataLoader(test_data, batch_size=64, shuffle=True)"
   ]
  },
  {
   "cell_type": "markdown",
   "metadata": {
    "id": "F8AP2-6q5pFN"
   },
   "source": [
    "# first tries (model has 969512 parameters)\n",
    "\n"
   ]
  },
  {
   "cell_type": "code",
   "execution_count": 9,
   "metadata": {
    "colab": {
     "base_uri": "https://localhost:8080/"
    },
    "id": "f6SLunOd4XPW",
    "outputId": "09349445-7f4d-46aa-ed03-ecf82d9e4317"
   },
   "outputs": [
    {
     "name": "stdout",
     "output_type": "stream",
     "text": [
      "Using cpu device\n"
     ]
    }
   ],
   "source": [
    "from torch import nn\n",
    "\n",
    "device = 'cuda' if torch.cuda.is_available() else 'cpu'\n",
    "print(f'Using {device} device')"
   ]
  },
  {
   "cell_type": "code",
   "execution_count": 10,
   "metadata": {
    "id": "zceEBVOs678h"
   },
   "outputs": [],
   "source": [
    "class NeuralNetwork(nn.Module):\n",
    "    def __init__(self):\n",
    "        super(NeuralNetwork, self).__init__()\n",
    "        self.linear_relu_stack = nn.Sequential(\n",
    "            nn.Conv2d(in_channels=3, out_channels=7, kernel_size=(3, 3), stride=2, padding=(1, 1), bias=True),\n",
    "            nn.ReLU(),\n",
    "            nn.Flatten(),\n",
    "            nn.Linear(16*16*7, 512),\n",
    "            nn.ReLU(),\n",
    "            nn.Linear(512, 100),\n",
    "        )\n",
    "\n",
    "    def forward(self, x):\n",
    "        logits = self.linear_relu_stack(x)\n",
    "        return logits"
   ]
  },
  {
   "cell_type": "code",
   "execution_count": 11,
   "metadata": {
    "colab": {
     "base_uri": "https://localhost:8080/"
    },
    "id": "428s6juWLsaq",
    "outputId": "d8b6fae7-6555-4fb2-ef1e-26ab458df286"
   },
   "outputs": [
    {
     "name": "stdout",
     "output_type": "stream",
     "text": [
      "NeuralNetwork(\n",
      "  (linear_relu_stack): Sequential(\n",
      "    (0): Conv2d(3, 7, kernel_size=(3, 3), stride=(2, 2), padding=(1, 1))\n",
      "    (1): ReLU()\n",
      "    (2): Flatten(start_dim=1, end_dim=-1)\n",
      "    (3): Linear(in_features=1792, out_features=512, bias=True)\n",
      "    (4): ReLU()\n",
      "    (5): Linear(in_features=512, out_features=100, bias=True)\n",
      "  )\n",
      ")\n"
     ]
    }
   ],
   "source": [
    "model = NeuralNetwork().to(device)\n",
    "print(model)"
   ]
  },
  {
   "cell_type": "code",
   "execution_count": 12,
   "metadata": {
    "colab": {
     "base_uri": "https://localhost:8080/"
    },
    "id": "f_GYDkmcL__E",
    "outputId": "7072cb2c-9c85-474b-be19-db92bf84b7cc"
   },
   "outputs": [
    {
     "name": "stdout",
     "output_type": "stream",
     "text": [
      "Predicted class: 22, clock\n"
     ]
    }
   ],
   "source": [
    "X = torch.rand(1, 3, 32, 32, device=device)\n",
    "logits = model(X)\n",
    "pred_probab = nn.Softmax(dim=1)(logits)\n",
    "y_pred = pred_probab.argmax(1)\n",
    "print(f\"Predicted class: {y_pred.numpy()[0]}, {labels[y_pred.numpy()[0]]}\")"
   ]
  },
  {
   "cell_type": "markdown",
   "metadata": {
    "id": "kLvYCwUlN9Am"
   },
   "source": [
    "можно вызывать по слоям:"
   ]
  },
  {
   "cell_type": "code",
   "execution_count": 13,
   "metadata": {
    "colab": {
     "base_uri": "https://localhost:8080/",
     "height": 53
    },
    "id": "8lDcrkBQOBD9",
    "outputId": "b4c77524-837a-4099-c586-14fab5105a55"
   },
   "outputs": [
    {
     "data": {
      "text/plain": [
       "'\\nx0 = model.linear_relu_stack[0](X)\\nprint(model.linear_relu_stack[0])\\nprint(x0.size())\\nprint(x0[0, 0, :4, :4])\\n\\nx1 = model.linear_relu_stack[1](x0)\\nprint(model.linear_relu_stack[1])\\nprint(x1.size())\\nprint(x1[0, 0, :4, :4])\\n\\n...\\n'"
      ]
     },
     "execution_count": 13,
     "metadata": {},
     "output_type": "execute_result"
    }
   ],
   "source": [
    "\"\"\"\n",
    "x0 = model.linear_relu_stack[0](X)\n",
    "print(model.linear_relu_stack[0])\n",
    "print(x0.size())\n",
    "print(x0[0, 0, :4, :4])\n",
    "\n",
    "x1 = model.linear_relu_stack[1](x0)\n",
    "print(model.linear_relu_stack[1])\n",
    "print(x1.size())\n",
    "print(x1[0, 0, :4, :4])\n",
    "\n",
    "...\n",
    "\"\"\""
   ]
  },
  {
   "cell_type": "code",
   "execution_count": 14,
   "metadata": {
    "id": "0GBHaPh7OcGu"
   },
   "outputs": [
    {
     "name": "stdout",
     "output_type": "stream",
     "text": [
      "Model structure:  NeuralNetwork(\n",
      "  (linear_relu_stack): Sequential(\n",
      "    (0): Conv2d(3, 7, kernel_size=(3, 3), stride=(2, 2), padding=(1, 1))\n",
      "    (1): ReLU()\n",
      "    (2): Flatten(start_dim=1, end_dim=-1)\n",
      "    (3): Linear(in_features=1792, out_features=512, bias=True)\n",
      "    (4): ReLU()\n",
      "    (5): Linear(in_features=512, out_features=100, bias=True)\n",
      "  )\n",
      ") \n",
      "\n",
      "\n",
      "Layer: linear_relu_stack.0.weight | Size: torch.Size([7, 3, 3, 3]) | Values : tensor([[[[-0.1470, -0.1456,  0.0907],\n",
      "          [ 0.0815,  0.1107, -0.0314],\n",
      "          [ 0.1545,  0.1913,  0.0987]],\n",
      "\n",
      "         [[-0.1063, -0.0761, -0.1238],\n",
      "          [ 0.1246,  0.0215,  0.1836],\n",
      "          [-0.0215,  0.1724,  0.0941]],\n",
      "\n",
      "         [[-0.0042, -0.0991,  0.0771],\n",
      "          [ 0.0107, -0.0973,  0.1120],\n",
      "          [-0.0294, -0.1859, -0.1074]]],\n",
      "\n",
      "\n",
      "        [[[ 0.1746,  0.0794, -0.1298],\n",
      "          [ 0.1502,  0.0063, -0.1786],\n",
      "          [ 0.0568, -0.0604, -0.0700]],\n",
      "\n",
      "         [[ 0.0100, -0.1753,  0.0048],\n",
      "          [ 0.1559,  0.0381, -0.0212],\n",
      "          [ 0.0877, -0.0168, -0.0620]],\n",
      "\n",
      "         [[ 0.0466,  0.0204,  0.0730],\n",
      "          [-0.0505,  0.1560,  0.1292],\n",
      "          [-0.0755,  0.0664,  0.0285]]]], grad_fn=<SliceBackward0>) \n",
      "\n",
      "Layer: linear_relu_stack.0.bias | Size: torch.Size([7]) | Values : tensor([-0.0570, -0.0836], grad_fn=<SliceBackward0>) \n",
      "\n",
      "Layer: linear_relu_stack.3.weight | Size: torch.Size([512, 1792]) | Values : tensor([[ 0.0189, -0.0187,  0.0198,  ...,  0.0058, -0.0091, -0.0021],\n",
      "        [-0.0230, -0.0199, -0.0124,  ...,  0.0012, -0.0173, -0.0140]],\n",
      "       grad_fn=<SliceBackward0>) \n",
      "\n",
      "Layer: linear_relu_stack.3.bias | Size: torch.Size([512]) | Values : tensor([-0.0218, -0.0004], grad_fn=<SliceBackward0>) \n",
      "\n",
      "Layer: linear_relu_stack.5.weight | Size: torch.Size([100, 512]) | Values : tensor([[ 0.0261,  0.0059, -0.0062,  ...,  0.0059, -0.0325, -0.0367],\n",
      "        [ 0.0422,  0.0396,  0.0159,  ...,  0.0307, -0.0147,  0.0384]],\n",
      "       grad_fn=<SliceBackward0>) \n",
      "\n",
      "Layer: linear_relu_stack.5.bias | Size: torch.Size([100]) | Values : tensor([-0.0237,  0.0307], grad_fn=<SliceBackward0>) \n",
      "\n"
     ]
    }
   ],
   "source": [
    "#мсотреть на параметры\n",
    "print(\"Model structure: \", model, \"\\n\\n\")\n",
    "\n",
    "for name, param in model.named_parameters():\n",
    "    print(f\"Layer: {name} | Size: {param.size()} | Values : {param[:2]} \\n\")"
   ]
  },
  {
   "cell_type": "code",
   "execution_count": 15,
   "metadata": {
    "colab": {
     "base_uri": "https://localhost:8080/"
    },
    "id": "G3CSyygfOxV8",
    "outputId": "84f99432-c77b-4b9e-ba50-a39a83af4cfd"
   },
   "outputs": [
    {
     "name": "stdout",
     "output_type": "stream",
     "text": [
      "model has 969512 parameters\n"
     ]
    }
   ],
   "source": [
    "#how many params:\n",
    "def param_count(model):\n",
    "  c = 0\n",
    "  for param in model.parameters():\n",
    "      laypar = 1\n",
    "      for a in list(param.size()):\n",
    "          laypar *= a\n",
    "      #print(f\"Size: {list(param.size())}, layer: {laypar}\")\n",
    "      c += laypar\n",
    "  print(f'model has {c} parameters')\n",
    "\n",
    "param_count(model)"
   ]
  },
  {
   "cell_type": "markdown",
   "metadata": {
    "id": "bEG4W0icS5QD"
   },
   "source": [
    "теперь обучение"
   ]
  },
  {
   "cell_type": "code",
   "execution_count": 16,
   "metadata": {
    "id": "sT2xoOOIS2s4"
   },
   "outputs": [],
   "source": [
    "loss_fn = nn.CrossEntropyLoss()\n",
    "learning_rate = 1e-3\n",
    "optimizer = torch.optim.SGD(model.parameters(), lr=learning_rate)"
   ]
  },
  {
   "cell_type": "markdown",
   "metadata": {
    "id": "ufxX55VNTVx6"
   },
   "source": [
    " функцию обучения, которая будет проходить одну эпоху (т.е. один проход по всему датасету), получать предсказания модели для всех данных, вычислять лосс, градиенты лосса по параметрам модели и производить шаг алгоритма оптимизации.\n",
    "Каждые 100 батчей мы будем печатать значение лосса и текущий прогресс."
   ]
  },
  {
   "cell_type": "code",
   "execution_count": 17,
   "metadata": {
    "id": "Ea5ihw-WS_tg"
   },
   "outputs": [],
   "source": [
    "def train_loop(dataloader, model, loss_fn, optimizer):\n",
    "    size = len(dataloader.dataset)\n",
    "    for batch, (X, y) in enumerate(dataloader):\n",
    "        # Получаем предсказания модели для данного батча\n",
    "        pred = model(X)\n",
    "        # Вычисляем лосс\n",
    "        loss = loss_fn(pred, y)\n",
    "\n",
    "        # Backpropagation\n",
    "        # Обнуляем градиенты\n",
    "        optimizer.zero_grad()\n",
    "        # Вычисляем градиент лосса по параметрам модели\n",
    "        loss.backward()\n",
    "        # Производим шаг алгоритма оптимизации\n",
    "        optimizer.step()\n",
    "\n",
    "        if batch % 300 == 0:\n",
    "            loss, current = loss.item(), batch * len(X)\n",
    "            print(f\"loss: {loss:>7f}  [{current:>5d}/{size:>5d}]\")"
   ]
  },
  {
   "cell_type": "code",
   "execution_count": 18,
   "metadata": {
    "id": "-vCJskhnTddD"
   },
   "outputs": [],
   "source": [
    "def test_loop(dataloader, model, loss_fn, accs):\n",
    "    size = len(dataloader.dataset)\n",
    "    num_batches = len(dataloader)\n",
    "    test_loss, correct = 0, 0\n",
    "\n",
    "    with torch.no_grad():\n",
    "        for X, y in dataloader:\n",
    "            pred = model(X)\n",
    "            test_loss += loss_fn(pred, y).item()\n",
    "            correct += (pred.argmax(1) == y).type(torch.float).sum().item()\n",
    "\n",
    "    test_loss /= num_batches\n",
    "    correct /= size\n",
    "    print(f\"Test Error: \\n Accuracy: {(100*correct):>0.1f}%, Avg loss: {test_loss:>8f} \\n\")\n",
    "    accs.append(100*correct)"
   ]
  },
  {
   "cell_type": "code",
   "execution_count": 19,
   "metadata": {
    "colab": {
     "base_uri": "https://localhost:8080/"
    },
    "id": "yRDRH-JXTgP8",
    "outputId": "3e1fadd2-bf80-48b7-9415-da171bc03549"
   },
   "outputs": [
    {
     "name": "stdout",
     "output_type": "stream",
     "text": [
      "Epoch 1\n",
      "-------------------------------\n",
      "loss: 4.600007  [    0/50000]\n",
      "loss: 4.596367  [19200/50000]\n",
      "loss: 4.611847  [38400/50000]\n",
      "Test Error: \n",
      " Accuracy: 1.0%, Avg loss: 4.602336 \n",
      "\n",
      "Epoch 2\n",
      "-------------------------------\n",
      "loss: 4.607390  [    0/50000]\n",
      "loss: 4.588484  [19200/50000]\n",
      "loss: 4.596535  [38400/50000]\n",
      "Test Error: \n",
      " Accuracy: 1.4%, Avg loss: 4.598754 \n",
      "\n",
      "Epoch 3\n",
      "-------------------------------\n",
      "loss: 4.603350  [    0/50000]\n",
      "loss: 4.598077  [19200/50000]\n",
      "loss: 4.611131  [38400/50000]\n",
      "Test Error: \n",
      " Accuracy: 1.7%, Avg loss: 4.594395 \n",
      "\n",
      "Epoch 4\n",
      "-------------------------------\n",
      "loss: 4.593838  [    0/50000]\n",
      "loss: 4.587810  [19200/50000]\n",
      "loss: 4.597446  [38400/50000]\n",
      "Test Error: \n",
      " Accuracy: 1.5%, Avg loss: 4.588907 \n",
      "\n",
      "Epoch 5\n",
      "-------------------------------\n",
      "loss: 4.591902  [    0/50000]\n",
      "loss: 4.578147  [19200/50000]\n",
      "loss: 4.592684  [38400/50000]\n",
      "Test Error: \n",
      " Accuracy: 1.3%, Avg loss: 4.582140 \n",
      "\n",
      "Epoch 6\n",
      "-------------------------------\n",
      "loss: 4.578915  [    0/50000]\n",
      "loss: 4.594480  [19200/50000]\n",
      "loss: 4.564765  [38400/50000]\n",
      "Test Error: \n",
      " Accuracy: 1.4%, Avg loss: 4.573672 \n",
      "\n",
      "Epoch 7\n",
      "-------------------------------\n",
      "loss: 4.583034  [    0/50000]\n",
      "loss: 4.571854  [19200/50000]\n",
      "loss: 4.569742  [38400/50000]\n",
      "Test Error: \n",
      " Accuracy: 1.6%, Avg loss: 4.562474 \n",
      "\n",
      "Epoch 8\n",
      "-------------------------------\n",
      "loss: 4.563508  [    0/50000]\n",
      "loss: 4.533011  [19200/50000]\n",
      "loss: 4.569008  [38400/50000]\n",
      "Test Error: \n",
      " Accuracy: 2.2%, Avg loss: 4.547543 \n",
      "\n",
      "Epoch 9\n",
      "-------------------------------\n",
      "loss: 4.568355  [    0/50000]\n",
      "loss: 4.497732  [19200/50000]\n",
      "loss: 4.572842  [38400/50000]\n",
      "Test Error: \n",
      " Accuracy: 3.2%, Avg loss: 4.527225 \n",
      "\n",
      "Epoch 10\n",
      "-------------------------------\n",
      "loss: 4.509145  [    0/50000]\n",
      "loss: 4.518324  [19200/50000]\n",
      "loss: 4.477025  [38400/50000]\n",
      "Test Error: \n",
      " Accuracy: 4.0%, Avg loss: 4.499022 \n",
      "\n",
      "Epoch 11\n",
      "-------------------------------\n",
      "loss: 4.475844  [    0/50000]\n",
      "loss: 4.482974  [19200/50000]\n",
      "loss: 4.452238  [38400/50000]\n",
      "Test Error: \n",
      " Accuracy: 4.6%, Avg loss: 4.458929 \n",
      "\n",
      "Epoch 12\n",
      "-------------------------------\n",
      "loss: 4.431706  [    0/50000]\n",
      "loss: 4.468521  [19200/50000]\n",
      "loss: 4.408941  [38400/50000]\n",
      "Test Error: \n",
      " Accuracy: 5.8%, Avg loss: 4.404913 \n",
      "\n",
      "Epoch 13\n",
      "-------------------------------\n",
      "loss: 4.438414  [    0/50000]\n",
      "loss: 4.361638  [19200/50000]\n",
      "loss: 4.395100  [38400/50000]\n",
      "Test Error: \n",
      " Accuracy: 6.4%, Avg loss: 4.336574 \n",
      "\n",
      "Epoch 14\n",
      "-------------------------------\n",
      "loss: 4.285530  [    0/50000]\n",
      "loss: 4.304182  [19200/50000]\n",
      "loss: 4.334332  [38400/50000]\n",
      "Test Error: \n",
      " Accuracy: 7.0%, Avg loss: 4.262516 \n",
      "\n",
      "Epoch 15\n",
      "-------------------------------\n",
      "loss: 4.323667  [    0/50000]\n",
      "loss: 4.274360  [19200/50000]\n",
      "loss: 4.048340  [38400/50000]\n",
      "Test Error: \n",
      " Accuracy: 7.7%, Avg loss: 4.192177 \n",
      "\n",
      "Epoch 16\n",
      "-------------------------------\n",
      "loss: 4.314844  [    0/50000]\n",
      "loss: 4.074575  [19200/50000]\n",
      "loss: 4.205516  [38400/50000]\n",
      "Test Error: \n",
      " Accuracy: 8.4%, Avg loss: 4.136205 \n",
      "\n",
      "Epoch 17\n",
      "-------------------------------\n",
      "loss: 4.168024  [    0/50000]\n",
      "loss: 4.322571  [19200/50000]\n",
      "loss: 3.991153  [38400/50000]\n",
      "Test Error: \n",
      " Accuracy: 8.8%, Avg loss: 4.091743 \n",
      "\n",
      "Epoch 18\n",
      "-------------------------------\n",
      "loss: 3.965770  [    0/50000]\n",
      "loss: 4.162675  [19200/50000]\n",
      "loss: 4.131426  [38400/50000]\n",
      "Test Error: \n",
      " Accuracy: 9.5%, Avg loss: 4.057472 \n",
      "\n",
      "Epoch 19\n",
      "-------------------------------\n",
      "loss: 4.145065  [    0/50000]\n",
      "loss: 4.105563  [19200/50000]\n",
      "loss: 3.924244  [38400/50000]\n",
      "Test Error: \n",
      " Accuracy: 10.2%, Avg loss: 4.033322 \n",
      "\n",
      "Epoch 20\n",
      "-------------------------------\n",
      "loss: 3.757040  [    0/50000]\n",
      "loss: 3.848266  [19200/50000]\n",
      "loss: 4.008456  [38400/50000]\n",
      "Test Error: \n",
      " Accuracy: 10.6%, Avg loss: 4.003752 \n",
      "\n",
      "Epoch 21\n",
      "-------------------------------\n",
      "loss: 3.758862  [    0/50000]\n",
      "loss: 4.002540  [19200/50000]\n",
      "loss: 3.896612  [38400/50000]\n",
      "Test Error: \n",
      " Accuracy: 10.1%, Avg loss: 3.987497 \n",
      "\n",
      "Epoch 22\n",
      "-------------------------------\n",
      "loss: 3.945544  [    0/50000]\n",
      "loss: 3.987853  [19200/50000]\n",
      "loss: 3.959590  [38400/50000]\n",
      "Test Error: \n",
      " Accuracy: 11.2%, Avg loss: 3.962743 \n",
      "\n",
      "Epoch 23\n",
      "-------------------------------\n",
      "loss: 3.930560  [    0/50000]\n",
      "loss: 3.843410  [19200/50000]\n",
      "loss: 4.209649  [38400/50000]\n",
      "Test Error: \n",
      " Accuracy: 11.2%, Avg loss: 3.947522 \n",
      "\n",
      "Epoch 24\n",
      "-------------------------------\n",
      "loss: 3.704169  [    0/50000]\n",
      "loss: 3.860362  [19200/50000]\n",
      "loss: 4.019073  [38400/50000]\n",
      "Test Error: \n",
      " Accuracy: 11.6%, Avg loss: 3.929426 \n",
      "\n",
      "Epoch 25\n",
      "-------------------------------\n",
      "loss: 3.900993  [    0/50000]\n",
      "loss: 3.732361  [19200/50000]\n",
      "loss: 3.962752  [38400/50000]\n",
      "Test Error: \n",
      " Accuracy: 12.1%, Avg loss: 3.913611 \n",
      "\n",
      "Epoch 26\n",
      "-------------------------------\n",
      "loss: 3.760153  [    0/50000]\n",
      "loss: 3.937670  [19200/50000]\n",
      "loss: 3.674740  [38400/50000]\n",
      "Test Error: \n",
      " Accuracy: 12.4%, Avg loss: 3.900965 \n",
      "\n",
      "Epoch 27\n",
      "-------------------------------\n",
      "loss: 3.916941  [    0/50000]\n",
      "loss: 3.997113  [19200/50000]\n",
      "loss: 4.200819  [38400/50000]\n",
      "Test Error: \n",
      " Accuracy: 12.8%, Avg loss: 3.883794 \n",
      "\n",
      "Epoch 28\n",
      "-------------------------------\n",
      "loss: 3.843889  [    0/50000]\n",
      "loss: 4.006291  [19200/50000]\n",
      "loss: 3.940256  [38400/50000]\n",
      "Test Error: \n",
      " Accuracy: 12.8%, Avg loss: 3.869940 \n",
      "\n",
      "Epoch 29\n",
      "-------------------------------\n",
      "loss: 3.726259  [    0/50000]\n",
      "loss: 3.460462  [19200/50000]\n",
      "loss: 4.018555  [38400/50000]\n",
      "Test Error: \n",
      " Accuracy: 13.3%, Avg loss: 3.856339 \n",
      "\n",
      "Epoch 30\n",
      "-------------------------------\n",
      "loss: 3.535764  [    0/50000]\n",
      "loss: 3.819846  [19200/50000]\n",
      "loss: 3.642068  [38400/50000]\n",
      "Test Error: \n",
      " Accuracy: 13.4%, Avg loss: 3.841761 \n",
      "\n",
      "Done!\n"
     ]
    }
   ],
   "source": [
    "epochs = 30\n",
    "accs = []\n",
    "for t in range(epochs):\n",
    "    print(f\"Epoch {t+1}\\n-------------------------------\")\n",
    "    model.train(True)\n",
    "    train_loop(train_dataloader, model, loss_fn, optimizer)\n",
    "    model.train(False)\n",
    "    test_loop(test_dataloader, model, loss_fn, accs)\n",
    "print(\"Done!\")"
   ]
  },
  {
   "cell_type": "markdown",
   "metadata": {
    "id": "729tQqSEfXVY"
   },
   "source": [
    "ОНО РАБОТАЕТ!!!!"
   ]
  },
  {
   "cell_type": "code",
   "execution_count": 20,
   "metadata": {
    "colab": {
     "base_uri": "https://localhost:8080/",
     "height": 452
    },
    "id": "WPPZiTxX5DPZ",
    "outputId": "1ee8d5ae-3522-43f0-9f24-79e7d97850ea"
   },
   "outputs": [
    {
     "data": {
      "image/png": "[encoded data removed]",
      "text/plain": [
       "<Figure size 640x480 with 1 Axes>"
      ]
     },
     "metadata": {},
     "output_type": "display_data"
    }
   ],
   "source": [
    "#pict of learning\n",
    "#вообще оно до этого училось эпох 10...\n",
    "\n",
    "plt.plot(range(1,epochs+1), accs, label = 'epochs')\n",
    "plt.title('learning process')\n",
    "plt.show()"
   ]
  },
  {
   "cell_type": "markdown",
   "metadata": {
    "id": "_tlCZhE2faVk"
   },
   "source": [
    "# 1000 params"
   ]
  },
  {
   "cell_type": "markdown",
   "metadata": {
    "id": "0s-_pfj0fkc5"
   },
   "source": [
    "only conv"
   ]
  },
  {
   "cell_type": "code",
   "execution_count": null,
   "metadata": {
    "id": "tClUfa1Pff25"
   },
   "outputs": [],
   "source": []
  }
 ],
 "metadata": {
  "colab": {
   "provenance": []
  },
  "kernelspec": {
   "display_name": "Python 3 (ipykernel)",
   "language": "python",
   "name": "python3"
  },
  "language_info": {
   "codemirror_mode": {
    "name": "ipython",
    "version": 3
   },
   "file_extension": ".py",
   "mimetype": "text/x-python",
   "name": "python",
   "nbconvert_exporter": "python",
   "pygments_lexer": "ipython3",
   "version": "3.10.8"
  }
 },
 "nbformat": 4,
 "nbformat_minor": 1
}
