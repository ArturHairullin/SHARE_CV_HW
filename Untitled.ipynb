{
 "cells": [
  {
   "cell_type": "code",
   "execution_count": 2,
   "id": "2f9a3398",
   "metadata": {},
   "outputs": [
    {
     "name": "stdout",
     "output_type": "stream",
     "text": [
      "Requirement already satisfied: pillow in c:\\python310\\lib\\site-packages (9.2.0)\n"
     ]
    },
    {
     "name": "stderr",
     "output_type": "stream",
     "text": [
      "WARNING: Ignoring invalid distribution -ip (c:\\python310\\lib\\site-packages)\n",
      "WARNING: Ignoring invalid distribution -ip (c:\\python310\\lib\\site-packages)\n",
      "WARNING: Ignoring invalid distribution -ip (c:\\python310\\lib\\site-packages)\n",
      "WARNING: Ignoring invalid distribution -ip (c:\\python310\\lib\\site-packages)\n",
      "\n",
      "[notice] A new release of pip available: 22.3 -> 23.0.1\n",
      "[notice] To update, run: python.exe -m pip install --upgrade pip\n"
     ]
    }
   ],
   "source": [
    "!pip install pillow"
   ]
  },
  {
   "cell_type": "code",
   "execution_count": 35,
   "id": "54eeaae1",
   "metadata": {},
   "outputs": [],
   "source": [
    "from PIL import Image\n",
    "import numpy as np\n",
    "img = Image.open('image.png')\n",
    "imar = np.array(img)\n",
    "imar = imar.astype(np.float32)\n",
    "for i in range(0,32):\n",
    "    for j in range(0,32):\n",
    "        for k in range(0,3):\n",
    "            imar[i][j][k]=imar[i][j][k]/255.\n",
    "ar = imar.mean(axis=2)\n",
    "with open('task.csv', 'r') as f:\n",
    "    lines = f.readlines()\n",
    "r, c, l = map(int, lines[1].split(','))\n",
    "patch = ar[r:r+l, c:c+l]\n",
    "np.save('seminar01_crop.npy', patch, allow_pickle=False)"
   ]
  },
  {
   "cell_type": "code",
   "execution_count": 60,
   "id": "c3087709",
   "metadata": {},
   "outputs": [
    {
     "name": "stdout",
     "output_type": "stream",
     "text": [
      "(3, 11, 7, 5)\n",
      "(3, 3, 5, 2)\n",
      "(2,)\n",
      "6.649126e-11\n"
     ]
    }
   ],
   "source": [
    "import numpy as np\n",
    "from keras.layers import Convolution2D, Conv2D\n",
    "def initm(tens, kernel, s, i, j):\n",
    "    kw = kernel.shape[1]\n",
    "    h = tens.shape[1]\n",
    "    oh = int((h-kw)/s) + 1\n",
    "    w = tens.shape[2]\n",
    "    ow = int((w-kw)/s) + 1\n",
    "    kerm = np.zeros((oh*ow, h*w))\n",
    "    for k in range(oh):\n",
    "        lm = k*s*w\n",
    "        for l in range(ow):\n",
    "            for n in range(kw):\n",
    "                for p in range(kw):\n",
    "                    kerm[k*ow + l][lm + l*s + n*w + p] = kernel[n][p][i][j]\n",
    "    return kerm\n",
    "def initv(tens, i, j):\n",
    "    h = tens.shape[1]\n",
    "    w = tens.shape[2]\n",
    "    tv = np.zeros(h*w)\n",
    "    for k in range(h):\n",
    "        for l in range(w):\n",
    "            tv[k*w + l] = tens[i][k][l][j]\n",
    "    return tv\n",
    "def initb(tens, kernel, bias, s, j):\n",
    "    kw = kernel.shape[1]\n",
    "    h = tens.shape[1]\n",
    "    oh = int((h-kw)/s) + 1\n",
    "    w = tens.shape[2]\n",
    "    ow = int((w-kw)/s) + 1\n",
    "    bv = np.ones(oh*ow)\n",
    "    bv = bias[j]*bv\n",
    "    return bv\n",
    "def conv(tens, kernel, bias, s):\n",
    "    kw = kernel.shape[1]\n",
    "    h = tens.shape[1]\n",
    "    oh = int((h-kw)/s) + 1\n",
    "    w = tens.shape[2]\n",
    "    ow = int((w-kw)/s) + 1\n",
    "    batch = tens.shape[0]\n",
    "    cout = kernel.shape[3]\n",
    "    cin = tens.shape[3]\n",
    "    p = list(range(batch))\n",
    "    for b in range(batch):\n",
    "        p[b] = []\n",
    "        for j in range(cout):\n",
    "            res = np.zeros(oh*ow)\n",
    "            for i in range(cin):\n",
    "                kerm = initm(tens, kernel, s, i, j)\n",
    "                tv = initv(tens, b, i)\n",
    "                r = kerm @ tv\n",
    "                res = res + r\n",
    "            res = res + initb(tens, kernel, bias, s, j)\n",
    "            res = np.reshape(res,(oh,-1))\n",
    "            p[b].append(res)\n",
    "    return np.transpose(np.array(p), (0, 2, 3, 1))\n",
    "def my_init(shape, dtype=None):\n",
    "    kernel = np.load('kernel.npy')\n",
    "    return kernel\n",
    "def my_initb(shape, dtype=None):\n",
    "    kernel = np.load('bias.npy')\n",
    "    return kernel\n",
    "with open('task.csv', 'r') as f:\n",
    "    lines = f.readlines()\n",
    "s = int(lines[1])    \n",
    "tens = np.load('tensor.npy')\n",
    "kernel = np.load('kernel.npy')\n",
    "bias = np.load('bias.npy')\n",
    "print(tens.shape)\n",
    "print(kernel.shape)\n",
    "print(bias.shape)\n",
    "res = conv(tens, kernel, bias, s=2)\n",
    "resk = Conv2D(2, 3, strides=2, kernel_initializer=my_init, bias_initializer=my_initb, input_shape=tens.shape[1:])(tens)\n",
    "print(np.sum((resk-res)**2))\n",
    "#np.save('seminar03_conv.npy', res, allow_pickle=False)"
   ]
  },
  {
   "cell_type": "code",
   "execution_count": 101,
   "id": "cf95c560",
   "metadata": {},
   "outputs": [
    {
     "name": "stdout",
     "output_type": "stream",
     "text": [
      "(3, 9, 5, 2)\n"
     ]
    }
   ],
   "source": [
    "print(np.load('seminar03_conv.npy').shape)"
   ]
  },
  {
   "cell_type": "code",
   "execution_count": 2,
   "id": "8e6e84a0",
   "metadata": {},
   "outputs": [
    {
     "name": "stdout",
     "output_type": "stream",
     "text": [
      "[[[ 0  1]\n",
      "  [ 2  3]]\n",
      "\n",
      " [[ 4  5]\n",
      "  [ 6  7]]\n",
      "\n",
      " [[ 8  9]\n",
      "  [10 11]]]\n",
      "[0 2]\n",
      "[0.33333333 0.33333333 0.33333333]\n"
     ]
    }
   ],
   "source": [
    "import numpy as np\n",
    "a = np.arange(12).reshape((3,2,2))\n",
    "print(a)\n",
    "print(a[0,:,0])\n",
    "b = a[0,:,0].copy()\n",
    "b[0] = 1\n",
    "print(np.exp(np.ones(3))/np.sum(np.exp(np.ones(3))))"
   ]
  },
  {
   "cell_type": "code",
   "execution_count": 30,
   "id": "02eb52fe",
   "metadata": {},
   "outputs": [
    {
     "name": "stdout",
     "output_type": "stream",
     "text": [
      "[[[0.33627642 0.20856759 0.37439798]\n",
      "  [0.62728704 0.22957767 0.55198999]\n",
      "  [0.37037933 0.26243051 0.07426549]]\n",
      "\n",
      " [[0.05136541 0.11373408 0.41278025]\n",
      "  [0.5349814  0.23916762 0.8422326 ]\n",
      "  [0.36183929 0.52714768 0.78334884]]]\n",
      "[0.33627642 0.20856759 0.37439798 0.62728704 0.22957767 0.55198999\n",
      " 0.37037933 0.26243051 0.07426549 0.05136541 0.11373408 0.41278025\n",
      " 0.5349814  0.23916762 0.8422326  0.36183929 0.52714768 0.78334884]\n",
      "[[[ True  True  True]\n",
      "  [ True  True  True]\n",
      "  [ True  True  True]]\n",
      "\n",
      " [[ True  True  True]\n",
      "  [ True  True  True]\n",
      "  [ True  True  True]]]\n"
     ]
    }
   ],
   "source": [
    "a = np.random.random((2,3,3))\n",
    "print(a)\n",
    "print(a.reshape(18))\n",
    "print(a.reshape((2,3,3))==a)"
   ]
  },
  {
   "cell_type": "code",
   "execution_count": 32,
   "id": "bfc46695",
   "metadata": {},
   "outputs": [
    {
     "name": "stdout",
     "output_type": "stream",
     "text": [
      "0\n"
     ]
    }
   ],
   "source": [
    "a = np.eye(2)\n",
    "b = np.array([[0,0,0,0],[1,1,1,1]])\n",
    "print(len([]))"
   ]
  },
  {
   "cell_type": "code",
   "execution_count": 39,
   "id": "7468a648",
   "metadata": {},
   "outputs": [
    {
     "name": "stdout",
     "output_type": "stream",
     "text": [
      "-6.260241675060247\n"
     ]
    }
   ],
   "source": [
    "a = np.arange(4)\n",
    "\n",
    "print(np.log(0.0189)+np.log(0.1054)+np.log(0.9592))"
   ]
  },
  {
   "cell_type": "code",
   "execution_count": 73,
   "id": "aca84716",
   "metadata": {},
   "outputs": [
    {
     "name": "stdout",
     "output_type": "stream",
     "text": [
      "[[ 0.  0.  0.  0.  0.  0.  0.  0.  0.  0.  0.]\n",
      " [ 0.  0.  0.  0.  0.  0.  0.  0.  0.  0.  0.]\n",
      " [ 0.  0.  1.  0.  2.  0.  3.  0.  4.  0.  0.]\n",
      " [ 0.  0.  0.  0.  0.  0.  0.  0.  0.  0.  0.]\n",
      " [ 0.  0.  5.  0.  6.  0.  7.  0.  8.  0.  0.]\n",
      " [ 0.  0.  0.  0.  0.  0.  0.  0.  0.  0.  0.]\n",
      " [ 0.  0.  9.  0. 10.  0. 11.  0. 12.  0.  0.]\n",
      " [ 0.  0.  0.  0.  0.  0.  0.  0.  0.  0.  0.]\n",
      " [ 0.  0. 13.  0. 14.  0. 15.  0. 16.  0.  0.]\n",
      " [ 0.  0.  0.  0.  0.  0.  0.  0.  0.  0.  0.]\n",
      " [ 0.  0.  0.  0.  0.  0.  0.  0.  0.  0.  0.]]\n"
     ]
    }
   ],
   "source": [
    "input_data = np.arange(16).reshape((1,1,4,4))+1\n",
    "stride = 2\n",
    "kernel_size = 3\n",
    "padding = 0\n",
    "b = input_data.shape[0]\n",
    "shape = list(input_data.shape)\n",
    "shape[2] = (shape[2]-1)*stride + 2*(kernel_size-1-padding) + 1\n",
    "shape[3] = (shape[3]-1)*stride + 2*(kernel_size-1-padding) + 1\n",
    "a = np.zeros(shape)\n",
    "for k in range(shape[0]):\n",
    "    for l in range(shape[1]):\n",
    "        for i in range(input_data.shape[2]):\n",
    "            for j in range(input_data.shape[3]):\n",
    "                a[k][l][i*stride + kernel_size-1-padding]\\\n",
    "                [j*stride + kernel_size-1-padding] = input_data[k][l][i][j]\n",
    "print(a[0][0])"
   ]
  },
  {
   "cell_type": "code",
   "execution_count": 84,
   "id": "1c3906e6",
   "metadata": {},
   "outputs": [
    {
     "name": "stdout",
     "output_type": "stream",
     "text": [
      "2 1\n"
     ]
    }
   ],
   "source": [
    "a = np.arange(9).reshape(3,3)- 2*np.eye(3)\n",
    "k = np.argmax(a)\n",
    "i = int(k/3)\n",
    "j = k - i*3\n",
    "print(i,j)"
   ]
  },
  {
   "cell_type": "code",
   "execution_count": null,
   "id": "770a07db",
   "metadata": {},
   "outputs": [],
   "source": []
  }
 ],
 "metadata": {
  "kernelspec": {
   "display_name": "Python 3 (ipykernel)",
   "language": "python",
   "name": "python3"
  },
  "language_info": {
   "codemirror_mode": {
    "name": "ipython",
    "version": 3
   },
   "file_extension": ".py",
   "mimetype": "text/x-python",
   "name": "python",
   "nbconvert_exporter": "python",
   "pygments_lexer": "ipython3",
   "version": "3.10.8"
  }
 },
 "nbformat": 4,
 "nbformat_minor": 5
}
