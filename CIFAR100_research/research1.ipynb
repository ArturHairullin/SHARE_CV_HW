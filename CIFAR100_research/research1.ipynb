{
 "cells": [
  {
   "cell_type": "code",
   "execution_count": 1,
   "id": "532a12c3",
   "metadata": {
    "id": "532a12c3"
   },
   "outputs": [],
   "source": [
    "import torch.nn.functional as Fun\n",
    "import torch\n",
    "import numpy as np\n",
    "torch.manual_seed(100)\n",
    "\n",
    "from torch.utils.data import Dataset\n",
    "from torchvision import datasets\n",
    "from torchvision.transforms import ToTensor\n",
    "import matplotlib.pyplot as plt"
   ]
  },
  {
   "cell_type": "code",
   "execution_count": 2,
   "id": "f1956bdc",
   "metadata": {},
   "outputs": [
    {
     "name": "stdout",
     "output_type": "stream",
     "text": [
      "2.0.0+cpu\n"
     ]
    }
   ],
   "source": [
    "print(torch.__version__)"
   ]
  },
  {
   "cell_type": "code",
   "execution_count": 3,
   "id": "becbbb0d",
   "metadata": {
    "colab": {
     "base_uri": "https://localhost:8080/"
    },
    "id": "becbbb0d",
    "outputId": "39409b77-843f-4789-eb49-41d5530fb5a7"
   },
   "outputs": [
    {
     "name": "stdout",
     "output_type": "stream",
     "text": [
      "Downloading https://www.cs.toronto.edu/~kriz/cifar-100-python.tar.gz to data\\cifar-100-python.tar.gz\n"
     ]
    },
    {
     "name": "stderr",
     "output_type": "stream",
     "text": [
      "100%|███████████████████████████████████████████████████████████████| 169001437/169001437 [00:19<00:00, 8758240.27it/s]\n"
     ]
    },
    {
     "name": "stdout",
     "output_type": "stream",
     "text": [
      "Extracting data\\cifar-100-python.tar.gz to data\n",
      "Files already downloaded and verified\n"
     ]
    }
   ],
   "source": [
    "training_data = datasets.CIFAR100(\n",
    "    root=\"data\",\n",
    "    train=True,\n",
    "    download=True,\n",
    "    transform=ToTensor(),\n",
    "    target_transform=lambda y: torch.zeros(100, dtype=torch.float).scatter_(0, torch.tensor(y), value=1)\n",
    ")\n",
    "\n",
    "test_data = datasets.CIFAR100(\n",
    "    root=\"data\",\n",
    "    train=False,\n",
    "    download=True,\n",
    "    transform=ToTensor(),\n",
    "    target_transform=lambda y: torch.zeros(100, dtype=torch.float).scatter_(0, torch.tensor(y), value=1)\n",
    ")"
   ]
  },
  {
   "cell_type": "code",
   "execution_count": 4,
   "id": "08bdf4a0",
   "metadata": {
    "colab": {
     "base_uri": "https://localhost:8080/",
     "height": 243
    },
    "id": "08bdf4a0",
    "outputId": "91a5bb38-7b0d-4b04-c1c0-d962118827a5"
   },
   "outputs": [
    {
     "ename": "NameError",
     "evalue": "name 'train_dataloader' is not defined",
     "output_type": "error",
     "traceback": [
      "\u001b[1;31m---------------------------------------------------------------------------\u001b[0m",
      "\u001b[1;31mNameError\u001b[0m                                 Traceback (most recent call last)",
      "Cell \u001b[1;32mIn [4], line 53\u001b[0m\n\u001b[0;32m     48\u001b[0m     \u001b[38;5;28;01mreturn\u001b[39;00m torch\u001b[38;5;241m.\u001b[39mTensor(image_batch_updated),label\n\u001b[0;32m     51\u001b[0m \u001b[38;5;66;03m# Generate CutMix image\u001b[39;00m\n\u001b[0;32m     52\u001b[0m \u001b[38;5;66;03m# Let's use the first image of the batch as the input image to be augmented\u001b[39;00m\n\u001b[1;32m---> 53\u001b[0m \u001b[38;5;28;01mfor\u001b[39;00m x, y \u001b[38;5;129;01min\u001b[39;00m train_dataloader:\n\u001b[0;32m     54\u001b[0m     image_batch \u001b[38;5;241m=\u001b[39m x\n\u001b[0;32m     55\u001b[0m     image_batch_labels \u001b[38;5;241m=\u001b[39m y\n",
      "\u001b[1;31mNameError\u001b[0m: name 'train_dataloader' is not defined"
     ]
    }
   ],
   "source": [
    "def rand_bbox(size, lamb):\n",
    "    \"\"\" Generate random bounding box \n",
    "    Args:\n",
    "        - size: [width, breadth] of the bounding box\n",
    "        - lamb: (lambda) cut ratio parameter, sampled from Beta distribution\n",
    "    Returns:\n",
    "        - Bounding box\n",
    "    \"\"\"\n",
    "    W = size[0]\n",
    "    H = size[1]\n",
    "    cut_rat = np.sqrt(1. - lamb)\n",
    "    cut_w = np.int(W * cut_rat)\n",
    "    cut_h = np.int(H * cut_rat)\n",
    "\n",
    "    # uniform\n",
    "    cx = np.random.randint(W)\n",
    "    cy = np.random.randint(H)\n",
    "\n",
    "    bbx1 = np.clip(cx - cut_w // 2, 0, W)\n",
    "    bby1 = np.clip(cy - cut_h // 2, 0, H)\n",
    "    bbx2 = np.clip(cx + cut_w // 2, 0, W)\n",
    "    bby2 = np.clip(cy + cut_h // 2, 0, H)\n",
    "\n",
    "    return bbx1, bby1, bbx2, bby2\n",
    "def generate_cutmix_image(image_batch, image_batch_labels, beta):\n",
    "    \"\"\" Generate a CutMix augmented image from a batch \n",
    "    Args:\n",
    "        - image_batch: a batch of input images\n",
    "        - image_batch_labels: labels corresponding to the image batch\n",
    "        - beta: a parameter of Beta distribution.\n",
    "    Returns:\n",
    "        - CutMix image batch, updated labels\n",
    "    \"\"\"\n",
    "    # generate mixed sample\n",
    "    lam = np.random.beta(beta, beta)\n",
    "    #print(lam)\n",
    "    rand_index = np.random.permutation(len(image_batch))\n",
    "    target_a = image_batch_labels\n",
    "    target_b = image_batch_labels[rand_index]\n",
    "    bbx1, bby1, bbx2, bby2 = rand_bbox(image_batch[0][0].shape, lam)\n",
    "    image_batch_updated = image_batch.numpy().copy()\n",
    "    image_batch_updated[:, :, bbx1:bbx2, bby1:bby2] = image_batch[rand_index, :, bbx1:bbx2, bby1:bby2]\n",
    "    \n",
    "    # adjust lambda to exactly match pixel ratio\n",
    "    lam = 1 - ((bbx2 - bbx1) * (bby2 - bby1) / (image_batch.shape[3] * image_batch.shape[2]))\n",
    "    label = target_a * lam + target_b * (1. - lam)\n",
    "    \n",
    "    return torch.Tensor(image_batch_updated),label\n",
    "\n",
    "\n",
    "# Generate CutMix image\n",
    "# Let's use the first image of the batch as the input image to be augmented\n",
    "for x, y in train_dataloader:\n",
    "    image_batch = x\n",
    "    image_batch_labels = y\n",
    "    break\n",
    "input_image = image_batch[0]\n",
    "image_batch_updated, image_batch_labels_updated = generate_cutmix_image(image_batch[:4], image_batch_labels[:4], 1.0)\n",
    "\n",
    "# Show original images\n",
    "print(\"Original Images\")\n",
    "for i in range(2):\n",
    "    for j in range(2):\n",
    "        plt.subplot(2,2,2*i+j+1)\n",
    "        #plt.imshow(image_batch[2*i+j].numpy())\n",
    "        plt.imshow(np.moveaxis(image_batch[2*i+j].numpy(),0,-1))\n",
    "plt.show()\n",
    "\n",
    "\n",
    "# Show CutMix images\n",
    "print(\"CutMix Images\")\n",
    "for i in range(2):\n",
    "    for j in range(2):\n",
    "        plt.subplot(2,2,2*i+j+1)\n",
    "        #plt.imshow(image_batch_updated[2*i+j])\n",
    "        plt.imshow(np.moveaxis(image_batch_updated[2*i+j].numpy(),0,-1))\n",
    "plt.show()\n",
    "\n",
    "# Print labels\n",
    "print('Original labels:')\n",
    "print(image_batch_labels)\n",
    "print('Updated labels')\n",
    "print(image_batch_labels_updated)"
   ]
  },
  {
   "cell_type": "code",
   "execution_count": 8,
   "id": "eec5f596",
   "metadata": {
    "id": "eec5f596"
   },
   "outputs": [
    {
     "data": {
      "image/png": "[encoded data removed]",
      "text/plain": [
       "<Figure size 800x800 with 9 Axes>"
      ]
     },
     "metadata": {},
     "output_type": "display_data"
    }
   ],
   "source": [
    "classes = \"\"\"0: apple\n",
    "1: aquarium_fish\n",
    "2: baby\n",
    "3: bear\n",
    "4: beaver\n",
    "5: bed\n",
    "6: bee\n",
    "7: beetle\n",
    "8: bicycle\n",
    "9: bottle\n",
    "10: bowl\n",
    "11: boy\n",
    "12: bridge\n",
    "13: bus\n",
    "14: butterfly\n",
    "15: camel\n",
    "16: can\n",
    "17: castle\n",
    "18: caterpillar\n",
    "19: cattle\n",
    "20: chair\n",
    "21: chimpanzee\n",
    "22: clock\n",
    "23: cloud\n",
    "24: cockroach\n",
    "25: couch\n",
    "26: cra\n",
    "27: crocodile\n",
    "28: cup\n",
    "29: dinosaur\n",
    "30: dolphin\n",
    "31: elephant\n",
    "32: flatfish\n",
    "33: forest\n",
    "34: fox\n",
    "35: girl\n",
    "36: hamster\n",
    "37: house\n",
    "38: kangaroo\n",
    "39: keyboard\n",
    "40: lamp\n",
    "41: lawn_mower\n",
    "42: leopard\n",
    "43: lion\n",
    "44: lizard\n",
    "45: lobster\n",
    "46: man\n",
    "47: maple_tree\n",
    "48: motorcycle\n",
    "49: mountain\n",
    "50: mouse\n",
    "51: mushroom\n",
    "52: oak_tree\n",
    "53: orange\n",
    "54: orchid\n",
    "55: otter\n",
    "56: palm_tree\n",
    "57: pear\n",
    "58: pickup_truck\n",
    "59: pine_tree\n",
    "60: plain\n",
    "61: plate\n",
    "62: poppy\n",
    "63: porcupine\n",
    "64: possum\n",
    "65: rabbit\n",
    "66: raccoon\n",
    "67: ray\n",
    "68: road\n",
    "69: rocket\n",
    "70: rose\n",
    "71: sea\n",
    "72: seal\n",
    "73: shark\n",
    "74: shrew\n",
    "75: skunk\n",
    "76: skyscraper\n",
    "77: snail\n",
    "78: snake\n",
    "79: spider\n",
    "80: squirrel\n",
    "81: streetcar\n",
    "82: sunflower\n",
    "83: sweet_pepper\n",
    "84: table\n",
    "85: tank\n",
    "86: telephone\n",
    "87: television\n",
    "88: tiger\n",
    "89: tractor\n",
    "90: train\n",
    "91: trout\n",
    "92: tulip\n",
    "93: turtle\n",
    "94: wardrobe\n",
    "95: whale\n",
    "96: willow_tree\n",
    "97: wolf\n",
    "98: woman\n",
    "99: worm\"\"\"\n",
    "\n",
    "labels = classes.split()[1::2]\n",
    "len(labels)\n",
    "figure = plt.figure(figsize=(8, 8))\n",
    "cols, rows = 3, 3\n",
    "for i in range(1, cols * rows + 1):\n",
    "    sample_idx = torch.randint(len(training_data), size=(1,)).item() # Случайный индекс из датасета\n",
    "    img, label = training_data[sample_idx] # Обращение по такому индексу возвращает изображение и метку элемента датасета\n",
    "    figure.add_subplot(rows, cols, i)\n",
    "    #plt.title(labels[label])\n",
    "    plt.axis(\"off\")\n",
    "    plt.imshow(np.moveaxis(img.numpy(),0,-1))\n",
    "plt.show()"
   ]
  },
  {
   "cell_type": "code",
   "execution_count": 9,
   "id": "06887af1",
   "metadata": {
    "id": "06887af1",
    "outputId": "c4865e9c-1f2e-43b3-f0b0-2c3967035aaa"
   },
   "outputs": [
    {
     "data": {
      "text/plain": [
       "(3, 32, 32)"
      ]
     },
     "execution_count": 9,
     "metadata": {},
     "output_type": "execute_result"
    }
   ],
   "source": [
    "img.numpy().shape"
   ]
  },
  {
   "cell_type": "code",
   "execution_count": 10,
   "id": "229d0bb7",
   "metadata": {
    "id": "229d0bb7"
   },
   "outputs": [],
   "source": [
    "from torch.utils.data import DataLoader\n",
    "\n",
    "train_dataloader = DataLoader(training_data, batch_size=64, shuffle=True)\n",
    "test_dataloader = DataLoader(test_data, batch_size=64, shuffle=True)"
   ]
  },
  {
   "cell_type": "code",
   "execution_count": 11,
   "id": "468a3f78",
   "metadata": {
    "id": "468a3f78"
   },
   "outputs": [],
   "source": [
    "from torch import nn"
   ]
  },
  {
   "cell_type": "code",
   "execution_count": 12,
   "id": "2a9d9bb2",
   "metadata": {
    "id": "2a9d9bb2"
   },
   "outputs": [],
   "source": [
    "class NeuralNetwork(nn.Module):\n",
    "    def __init__(self):\n",
    "        super(NeuralNetwork, self).__init__()\n",
    "        self.linear_relu_stack = nn.Sequential(\n",
    "            #nn.Dropout(p=0.2),\n",
    "            nn.Conv2d(in_channels=3, out_channels=3, kernel_size=(3, 3), stride=2, padding=(1, 1), bias=True),\n",
    "            nn.BatchNorm2d(3),\n",
    "            nn.ReLU(),\n",
    "            #nn.LeakyReLU(0.1),\n",
    "            nn.Conv2d(in_channels=3, out_channels=3, kernel_size=(3, 3), stride=2, padding=(1, 1), bias=True),\n",
    "            nn.BatchNorm2d(3),\n",
    "            nn.ReLU(),\n",
    "            #nn.LeakyReLU(0.1),\n",
    "            #nn.Dropout(p=0.2),\n",
    "            nn.Conv2d(in_channels=3, out_channels=3, kernel_size=(3, 3), stride=1, padding=(1, 1), bias=True),\n",
    "            nn.BatchNorm2d(3),\n",
    "            nn.ReLU(),\n",
    "            #nn.LeakyReLU(0.1),\n",
    "            #nn.MaxPool2d((3, 3), stride=(2, 2)),\n",
    "            #nn.Dropout(p=0.2),\n",
    "            nn.Conv2d(in_channels=3, out_channels=3, kernel_size=(3, 3), stride=1, padding=(1, 1), bias=True),\n",
    "            nn.BatchNorm2d(3),\n",
    "            nn.ReLU(),\n",
    "            #nn.LeakyReLU(0.1),\n",
    "            #nn.MaxPool2d((3, 3), stride=(2, 2)),\n",
    "            #nn.Dropout(p=0.2),\n",
    "            nn.Conv2d(in_channels=3, out_channels=4, kernel_size=(3, 3), stride=2, padding=(2, 2), bias=True),\n",
    "            nn.BatchNorm2d(4),\n",
    "            nn.ReLU(),\n",
    "            #nn.LeakyReLU(0.1),\n",
    "            #nn.MaxPool2d((3, 3), stride=(2, 2)),\n",
    "            #nn.Dropout(p=0.2),\n",
    "            nn.Conv2d(in_channels=4, out_channels=4, kernel_size=(3, 3), stride=1, padding=(1, 1), bias=True),\n",
    "            nn.BatchNorm2d(4),\n",
    "            nn.ReLU(),\n",
    "            #nn.LeakyReLU(0.1),\n",
    "            #nn.MaxPool2d((3, 3), stride=(2, 2)),\n",
    "            #nn.Dropout(p=0.2),\n",
    "            nn.Conv2d(in_channels=4, out_channels=4, kernel_size=(3, 3), stride=1, padding=(1, 1), bias=True),\n",
    "            nn.BatchNorm2d(4),\n",
    "            nn.ReLU(),\n",
    "            #nn.LeakyReLU(0.1),\n",
    "            #nn.Dropout(p=0.2),\n",
    "            nn.Conv2d(in_channels=4, out_channels=4, kernel_size=(3, 3), stride=1, padding=(1, 1), bias=True),\n",
    "            nn.BatchNorm2d(4),\n",
    "            nn.ReLU(),\n",
    "            #nn.LeakyReLU(0.1),\n",
    "            #nn.MaxPool2d((3, 3), stride=(2, 2)),\n",
    "            nn.Flatten(),\n",
    "            #nn.Dropout(p=0.5),\n",
    "            #nn.Linear(3, 20),\n",
    "            #nn.ReLU(),\n",
    "            #nn.LeakyReLU(0.1),\n",
    "            #nn.Linear(20, 100),\n",
    "        )\n",
    "\n",
    "    def forward(self, x):\n",
    "        logits = self.linear_relu_stack(x)\n",
    "        return logits"
   ]
  },
  {
   "cell_type": "code",
   "execution_count": 13,
   "id": "2c4f425f",
   "metadata": {
    "id": "2c4f425f"
   },
   "outputs": [],
   "source": [
    "class NeuralNetwork(nn.Module):\n",
    "    def __init__(self):\n",
    "        super(NeuralNetwork, self).__init__()\n",
    "        self.linear_relu_stack = nn.Sequential(\n",
    "            #nn.Dropout(p=0.2),\n",
    "            nn.Conv2d(in_channels=3, out_channels=3, kernel_size=(3, 3), stride=2, padding=(1, 1), bias=True),\n",
    "            nn.BatchNorm2d(3),\n",
    "            nn.ReLU(),\n",
    "            #nn.LeakyReLU(0.1),\n",
    "            nn.Conv2d(in_channels=3, out_channels=3, kernel_size=(3, 3), stride=2, padding=(1, 1), bias=True),\n",
    "            nn.BatchNorm2d(3),\n",
    "            nn.ReLU(),\n",
    "            #nn.LeakyReLU(0.1),\n",
    "            #nn.Dropout(p=0.2),\n",
    "            nn.Conv2d(in_channels=3, out_channels=3, kernel_size=(3, 3), stride=1, padding=(1, 1), bias=True),\n",
    "            nn.BatchNorm2d(3),\n",
    "            nn.ReLU(),\n",
    "            #nn.LeakyReLU(0.1),\n",
    "            #nn.MaxPool2d((3, 3), stride=(2, 2)),\n",
    "            #nn.Dropout(p=0.2),\n",
    "            nn.Conv2d(in_channels=3, out_channels=3, kernel_size=(3, 3), stride=1, padding=(1, 1), bias=True),\n",
    "            nn.BatchNorm2d(3),\n",
    "            nn.ReLU(),\n",
    "            #nn.LeakyReLU(0.1),\n",
    "            #nn.MaxPool2d((3, 3), stride=(2, 2)),\n",
    "            #nn.Dropout(p=0.2),\n",
    "            nn.Conv2d(in_channels=3, out_channels=4, kernel_size=(3, 3), stride=2, padding=(2, 2), bias=True),\n",
    "            nn.BatchNorm2d(4),\n",
    "            nn.ReLU(),\n",
    "            #nn.LeakyReLU(0.1),\n",
    "            #nn.MaxPool2d((3, 3), stride=(2, 2)),\n",
    "            #nn.Dropout(p=0.2),\n",
    "            nn.Conv2d(in_channels=4, out_channels=4, kernel_size=(3, 3), stride=1, padding=(1, 1), bias=True),\n",
    "            nn.BatchNorm2d(4),\n",
    "            nn.ReLU(),\n",
    "            #nn.LeakyReLU(0.1),\n",
    "            #nn.MaxPool2d((3, 3), stride=(2, 2)),\n",
    "            #nn.Dropout(p=0.2),\n",
    "            nn.Conv2d(in_channels=4, out_channels=4, kernel_size=(3, 3), stride=1, padding=(1, 1), bias=True),\n",
    "            nn.BatchNorm2d(4),\n",
    "            nn.ReLU(),\n",
    "            #nn.LeakyReLU(0.1),\n",
    "            #nn.Dropout(p=0.2),\n",
    "            nn.Conv2d(in_channels=4, out_channels=4, kernel_size=(3, 3), stride=1, padding=(1, 1), bias=True),\n",
    "            nn.BatchNorm2d(4),\n",
    "            nn.ReLU(),\n",
    "            #nn.LeakyReLU(0.1),\n",
    "            #nn.MaxPool2d((3, 3), stride=(2, 2)),\n",
    "            nn.Flatten(),\n",
    "            #nn.Dropout(p=0.5),\n",
    "            #nn.Linear(3, 20),\n",
    "            #nn.ReLU(),\n",
    "            #nn.LeakyReLU(0.1),\n",
    "            #nn.Linear(20, 100),\n",
    "        )\n",
    "\n",
    "    def forward(self, x):\n",
    "        logits = self.linear_relu_stack(x)\n",
    "        return logits"
   ]
  },
  {
   "cell_type": "code",
   "execution_count": 14,
   "id": "8f870f57",
   "metadata": {
    "id": "8f870f57"
   },
   "outputs": [],
   "source": [
    "class NeuralNetwork2(nn.Module):\n",
    "    def __init__(self):\n",
    "        super(NeuralNetwork2, self).__init__()\n",
    "        self.linear_relu_stack = nn.Sequential(\n",
    "            #nn.Dropout(p=0.2),\n",
    "            nn.Conv2d(in_channels=3, out_channels=3, kernel_size=(3, 3), stride=1, padding=(1, 1), bias=True),\n",
    "            nn.BatchNorm2d(3),\n",
    "            nn.ReLU(),\n",
    "            nn.MaxPool2d(2,2),\n",
    "            #nn.LeakyReLU(0.1),\n",
    "            nn.Conv2d(in_channels=3, out_channels=3, kernel_size=(3, 3), stride=1, padding=(1, 1), bias=True),\n",
    "            nn.BatchNorm2d(3),\n",
    "            nn.ReLU(),\n",
    "            nn.MaxPool2d(2,2),\n",
    "            #nn.LeakyReLU(0.1),\n",
    "            #nn.Dropout(p=0.2),\n",
    "            nn.Conv2d(in_channels=3, out_channels=3, kernel_size=(3, 3), stride=1, padding=(1, 1), bias=True),\n",
    "            nn.BatchNorm2d(3),\n",
    "            nn.ReLU(),\n",
    "            nn.MaxPool2d(2,2),\n",
    "            nn.Conv2d(in_channels=3, out_channels=4, kernel_size=(3, 3), stride=1, padding=(1, 1), bias=True),\n",
    "            nn.BatchNorm2d(4),\n",
    "            nn.ReLU(),\n",
    "            nn.MaxPool2d(2,2),\n",
    "\n",
    "            nn.Flatten(),\n",
    "            #nn.Dropout(p=0.5),\n",
    "            #nn.Linear(3, 20),\n",
    "            #nn.ReLU(),\n",
    "            #nn.LeakyReLU(0.1),\n",
    "            nn.Linear(16, 4),\n",
    "            nn.ReLU(),\n",
    "            nn.Linear(4, 100),\n",
    "            nn.ReLU(),\n",
    "        )\n",
    "\n",
    "    def forward(self, x):\n",
    "        logits = self.linear_relu_stack(x)\n",
    "        return logits"
   ]
  },
  {
   "cell_type": "code",
   "execution_count": 15,
   "id": "6cf68da4",
   "metadata": {
    "id": "6cf68da4"
   },
   "outputs": [],
   "source": [
    "class ActNorm(nn.Module):\n",
    "    def __init__(self, a=1e-4, b=0.75, n=4, k=2):\n",
    "        super().__init__()\n",
    "        self.act = nn.ReLU()\n",
    "        self.n = n\n",
    "        self.a = a\n",
    "        self.b = b\n",
    "        self.k = k\n",
    "    def forward(self, x):\n",
    "        out = self.act(x)\n",
    "        out1 = torch.ones_like(x)\n",
    "        for k in range(x.shape[0]):\n",
    "            for l in range(x.shape[1]):\n",
    "                for i in range(x.shape[2]):\n",
    "                    for j in range(x.shape[3]):\n",
    "                        coef = 0\n",
    "                        for i1 in range(max(0,l-int(self.n/2)), min(x.shape[1]-1,i+int(self.n/2))):\n",
    "                            coef+=self.a*out[k,i1,i,j]**2\n",
    "                        coef = (self.k+coef)**self.b\n",
    "                        out1[k,l,i,j] = out[k,l,i,j]/coef\n",
    "        \n",
    "        return out1"
   ]
  },
  {
   "cell_type": "code",
   "execution_count": 16,
   "id": "a5af7170",
   "metadata": {
    "id": "a5af7170"
   },
   "outputs": [],
   "source": [
    "class ResBlock(nn.Module):\n",
    "    def __init__(self, nc):\n",
    "        super().__init__()\n",
    "        \n",
    "        self.conv0 = nn.Conv2d(nc, nc, kernel_size=3, padding=1)\n",
    "        self.norm0 = nn.BatchNorm2d(nc)\n",
    "        self.act = nn.LeakyReLU(0.2)\n",
    "        self.conv1 = nn.Conv2d(nc, nc, kernel_size=3, padding=1)\n",
    "        self.norm1 = nn.BatchNorm2d(nc)\n",
    "        \n",
    "    def forward(self, x):\n",
    "        out = self.conv0(x)\n",
    "        out = self.norm0(out)\n",
    "        out = self.act(out)\n",
    "        out = self.conv1(out)\n",
    "        #out = self.norm1(out)\n",
    "        \n",
    "        return x + out # self.act(x + out)"
   ]
  },
  {
   "cell_type": "code",
   "execution_count": 17,
   "id": "3c24f779",
   "metadata": {
    "id": "3c24f779"
   },
   "outputs": [],
   "source": [
    "class BottleneckBlock(nn.Module):\n",
    "    def __init__(self, nc):\n",
    "        super().__init__()\n",
    "        self.act = nn.ReLU()\n",
    "        \n",
    "        self.conv0 = nn.Conv2d(nc, nc//4, kernel_size=1, padding=0, groups=nc//4)\n",
    "        self.norm0 = nn.BatchNorm2d(nc//4)\n",
    "        self.conv1 = nn.Conv2d(nc//4, nc//4, kernel_size=3, padding=1, groups=nc//4)\n",
    "        self.norm1 = nn.BatchNorm2d(nc//4)\n",
    "        self.conv2 = nn.Conv2d(nc//4, nc, kernel_size=1, padding=0, groups=nc//4)\n",
    "        self.norm2 = nn.BatchNorm2d(nc)\n",
    "        \n",
    "    def forward(self, x):\n",
    "        out = self.conv0(x)\n",
    "        out = self.norm0(out)\n",
    "        out = self.act(out)\n",
    "        out = self.conv1(out)\n",
    "        out = self.norm1(out)\n",
    "        out = self.act(out)\n",
    "        out = self.conv2(out)\n",
    "        out = self.norm2(out)\n",
    "        out = self.act(out)\n",
    "        return self.act(x + out)"
   ]
  },
  {
   "cell_type": "code",
   "execution_count": 18,
   "id": "231d4ec2",
   "metadata": {
    "id": "231d4ec2"
   },
   "outputs": [],
   "source": [
    "class ResTruck(nn.Module):\n",
    "    def __init__(self, nc, num_blocks, block_type='classic'):\n",
    "        super().__init__()\n",
    "        \n",
    "        truck = []\n",
    "        for i in range(num_blocks):\n",
    "            if block_type == 'classic':\n",
    "                truck += [ResBlock(nc)]\n",
    "            elif block_type == 'bottleneck':\n",
    "                truck += [BottleneckBlock(nc)]\n",
    "            else:\n",
    "                raise NotImplementedError(f'{block_type} is not implemented')\n",
    "        self.truck = nn.Sequential(*truck)\n",
    "        \n",
    "    def forward(self, x):\n",
    "        return self.truck(x)"
   ]
  },
  {
   "cell_type": "code",
   "execution_count": 19,
   "id": "7a283897",
   "metadata": {
    "id": "7a283897"
   },
   "outputs": [],
   "source": [
    "class RNet(nn.Module):\n",
    "    def __init__(self, in_nc, nc, out_nc):\n",
    "        super(RNet, self).__init__()\n",
    "        self.linear_relu_stack = nn.Sequential(\n",
    "            nn.Conv2d(in_nc, nc, kernel_size=3, stride=1, groups=1),\n",
    "            nn.BatchNorm2d(nc),\n",
    "            nn.ReLU(),\n",
    "            nn.MaxPool2d(2,2),\n",
    "            ResTruck(nc, 1, block_type='bottleneck'),\n",
    "            nn.Conv2d(nc, 2*nc, 3, padding=1, stride=1, groups=nc),\n",
    "            nn.BatchNorm2d(2*nc),\n",
    "            nn.ReLU(),\n",
    "            nn.MaxPool2d(2,2),\n",
    "            ResTruck(2*nc, 2, block_type='bottleneck'),\n",
    "            nn.Conv2d(2*nc, 4*nc, 3, padding=1, stride=1, groups=2*nc),\n",
    "            nn.BatchNorm2d(4*nc),\n",
    "            nn.ReLU(),\n",
    "            ResTruck(4*nc, 4, block_type='bottleneck'),\n",
    "            nn.Conv2d(4*nc, 4*nc, 3, padding=1, stride=2, groups=4*nc),\n",
    "            nn.BatchNorm2d(4*nc),\n",
    "            nn.ReLU(),\n",
    "            ResTruck(4*nc, 2, block_type='bottleneck'),\n",
    "            nn.MaxPool2d(2,2),\n",
    "            nn.Flatten(),\n",
    "            nn.Linear(4*nc*4, out_nc)\n",
    "        )\n",
    "    \n",
    "\n",
    "    def forward(self, x):\n",
    "        logits = self.linear_relu_stack(x)\n",
    "        return logits"
   ]
  },
  {
   "cell_type": "code",
   "execution_count": 20,
   "id": "42998e72",
   "metadata": {},
   "outputs": [],
   "source": [
    "class RNet2(nn.Module):\n",
    "    def __init__(self, in_nc, nc, out_nc, block_type):\n",
    "        super(RNet2, self).__init__()\n",
    "        self.linear_relu_stack = nn.Sequential(\n",
    "            nn.Conv2d(in_nc, nc, kernel_size=7, stride=2),\n",
    "            nn.BatchNorm2d(nc),\n",
    "            nn.ReLU(),\n",
    "            nn.MaxPool2d(2,2),\n",
    "            ResTruck(nc, 1, block_type=block_type),\n",
    "            nn.Conv2d(nc, 2*nc, 3, padding=1, stride=2),\n",
    "            nn.BatchNorm2d(2*nc),\n",
    "            nn.ReLU(),\n",
    "            ResTruck(2*nc, 2, block_type=block_type),\n",
    "            nn.Conv2d(2*nc, 4*nc, 3, padding=1, stride=2),\n",
    "            nn.BatchNorm2d(4*nc),\n",
    "            nn.ReLU(),\n",
    "            ResTruck(4*nc, 4, block_type=block_type),\n",
    "            nn.Conv2d(4*nc, 4*nc, 3, padding=1, stride=2),\n",
    "            nn.BatchNorm2d(4*nc),\n",
    "            nn.ReLU(),\n",
    "            ResTruck(4*nc, 2, block_type=block_type),\n",
    "            nn.AdaptiveAvgPool2d((1,1)),\n",
    "            nn.Flatten(),\n",
    "            nn.Linear(4*nc, out_nc)\n",
    "        )\n",
    "    \n",
    "\n",
    "    def forward(self, x):\n",
    "        logits = self.linear_relu_stack(x)\n",
    "        return logits"
   ]
  },
  {
   "cell_type": "code",
   "execution_count": 22,
   "id": "a0b7421a",
   "metadata": {
    "id": "a0b7421a"
   },
   "outputs": [],
   "source": [
    "class ANet(nn.Module):\n",
    "    def __init__(self):\n",
    "        super(ANet, self).__init__()\n",
    "        self.linear_relu_stack = nn.Sequential(\n",
    "            \n",
    "            nn.Conv2d(3, 48, 9, padding=4, stride=1),\n",
    "            nn.MaxPool2d(3,2),\n",
    "            #ActNorm(),\n",
    "            nn.BatchNorm2d(48),\n",
    "            nn.ReLU(),\n",
    "            nn.Conv2d(48, 96, 3, padding=1, stride=1),\n",
    "            nn.MaxPool2d(3,2),\n",
    "            #ActNorm(),\n",
    "            nn.BatchNorm2d(96),\n",
    "            nn.ReLU(),\n",
    "            nn.Conv2d(96, 144, 3, padding=1, stride=1),\n",
    "            #ActNorm(),\n",
    "            nn.BatchNorm2d(4*3),\n",
    "            nn.ReLU(),\n",
    "            nn.Conv2d(144, 144, 3, padding=1, stride=1),\n",
    "            #ActNorm(),\n",
    "            nn.ReLU(),\n",
    "            nn.Conv2d(144, 128, 3, padding=1, stride=1),\n",
    "            nn.MaxPool2d(4,3),\n",
    "            #ActNorm(),\n",
    "            nn.ReLU(),\n",
    "            nn.Flatten(),\n",
    "            nn.Dropout(),\n",
    "            nn.Linear(512, 512),\n",
    "            #ActNorm(),\n",
    "            nn.ReLU(),\n",
    "            nn.Dropout(),\n",
    "            nn.Linear(512, 100),\n",
    "            #ActNorm(),\n",
    "            nn.ReLU(),\n",
    "        )\n",
    "    \n",
    "\n",
    "    def forward(self, x):\n",
    "        logits = self.linear_relu_stack(x)\n",
    "        return logits"
   ]
  },
  {
   "cell_type": "code",
   "execution_count": 23,
   "id": "c3cd38d7",
   "metadata": {
    "colab": {
     "base_uri": "https://localhost:8080/"
    },
    "id": "c3cd38d7",
    "outputId": "956ae477-7437-4d7c-89df-27cf317b01bb"
   },
   "outputs": [
    {
     "name": "stdout",
     "output_type": "stream",
     "text": [
      "Using cpu device\n"
     ]
    }
   ],
   "source": [
    "device = 'cuda' if torch.cuda.is_available() else 'cpu'\n",
    "print(f'Using {device} device')"
   ]
  },
  {
   "cell_type": "code",
   "execution_count": 26,
   "id": "3d33361b",
   "metadata": {
    "id": "3d33361b",
    "outputId": "c038530d-49dd-46f3-fd8c-8fa51342515b"
   },
   "outputs": [
    {
     "name": "stdout",
     "output_type": "stream",
     "text": [
      "model has 958 parameters\n"
     ]
    }
   ],
   "source": [
    "model = NeuralNetwork2().to(device)\n",
    "param_count(model)"
   ]
  },
  {
   "cell_type": "code",
   "execution_count": 27,
   "id": "d15591c9",
   "metadata": {},
   "outputs": [
    {
     "name": "stdout",
     "output_type": "stream",
     "text": [
      "model has 948 parameters\n"
     ]
    }
   ],
   "source": [
    "model = NeuralNetwork().to(device)\n",
    "param_count(model)"
   ]
  },
  {
   "cell_type": "code",
   "execution_count": 17,
   "id": "347f0e5f",
   "metadata": {
    "colab": {
     "base_uri": "https://localhost:8080/",
     "height": 243
    },
    "id": "347f0e5f",
    "outputId": "c842d5e5-3449-4c3e-d169-d11fab0a0869"
   },
   "outputs": [
    {
     "name": "stdout",
     "output_type": "stream",
     "text": [
      "model has 993960 parameters\n"
     ]
    }
   ],
   "source": [
    "model = RNet(3,496,100).to(device)\n",
    "param_count(model)\n",
    "#50k24\n",
    "#500k248\n",
    "#100k48\n",
    "#10k4\n",
    "#1000k496"
   ]
  },
  {
   "cell_type": "code",
   "execution_count": 35,
   "id": "6461adc5",
   "metadata": {},
   "outputs": [
    {
     "name": "stdout",
     "output_type": "stream",
     "text": [
      "model has 676191 parameters\n"
     ]
    }
   ],
   "source": [
    "model = RNet2(3,52,100,'bottleneck').to(device)\n",
    "param_count(model)"
   ]
  },
  {
   "cell_type": "code",
   "execution_count": null,
   "id": "70e63c4a",
   "metadata": {
    "id": "70e63c4a"
   },
   "outputs": [],
   "source": [
    "model = ANet().to(device)"
   ]
  },
  {
   "cell_type": "code",
   "execution_count": 25,
   "id": "ff1dae1e",
   "metadata": {
    "colab": {
     "base_uri": "https://localhost:8080/"
    },
    "id": "ff1dae1e",
    "outputId": "d20e8610-bd38-4c2e-8e0f-92a11cbaf361"
   },
   "outputs": [
    {
     "name": "stdout",
     "output_type": "stream",
     "text": [
      "model has 958 parameters\n"
     ]
    }
   ],
   "source": [
    "def param_count(model):\n",
    "    c = 0\n",
    "    for param in model.parameters():\n",
    "        laypar = 1\n",
    "        for a in list(param.size()):\n",
    "            laypar *= a\n",
    "      #print(f\"Size: {list(param.size())}, layer: {laypar}\")\n",
    "        c += laypar\n",
    "    print(f'model has {c} parameters')\n",
    "\n",
    "param_count(model)"
   ]
  },
  {
   "cell_type": "code",
   "execution_count": 18,
   "id": "98d1dc3a",
   "metadata": {
    "id": "98d1dc3a"
   },
   "outputs": [],
   "source": [
    "loss_fn = nn.CrossEntropyLoss()"
   ]
  },
  {
   "cell_type": "code",
   "execution_count": 43,
   "id": "26242a57",
   "metadata": {},
   "outputs": [
    {
     "name": "stdout",
     "output_type": "stream",
     "text": [
      "tensor(0.6931)\n"
     ]
    }
   ],
   "source": [
    "lf = nn.CrossEntropyLoss()\n",
    "p = torch.tensor([[1.5,1.5],[1.5,1.5]])\n",
    "l = torch.tensor([[0.5,0.5],[0.5,0.5]])\n",
    "print(lf(p,l))"
   ]
  },
  {
   "cell_type": "code",
   "execution_count": 37,
   "id": "a705ebd4",
   "metadata": {
    "id": "a705ebd4"
   },
   "outputs": [],
   "source": [
    "learning_rate = 1e-3\n",
    "#optimizer = torch.optim.SGD(model.parameters(), lr=learning_rate, momentum=0.8)\n",
    "optimizer = torch.optim.Adam(model.parameters(), lr=learning_rate, betas=(0.9,0.99))"
   ]
  },
  {
   "cell_type": "code",
   "execution_count": 44,
   "id": "3e55cb60",
   "metadata": {
    "id": "3e55cb60"
   },
   "outputs": [],
   "source": [
    "from tqdm import tqdm\n",
    "def train_loop(dataloader, model, loss_fn, optimizer):\n",
    "    size = len(dataloader.dataset)\n",
    "    for batch, (X, y) in enumerate(dataloader):\n",
    "        # Получаем предсказания модели для данного батча\n",
    "        X, y = generate_cutmix_image(X, y, 1.0)\n",
    "        X,y = X.to(device),y.to(device)\n",
    "        pred = model(X)\n",
    "        # Вычисляем лосс\n",
    "        loss = loss_fn(pred, y)\n",
    "\n",
    "        # Backpropagation\n",
    "        # Обнуляем градиенты\n",
    "        optimizer.zero_grad()\n",
    "        # Вычисляем градиент лосса по параметрам модели\n",
    "        loss.backward()\n",
    "        # Производим шаг алгоритма оптимизации\n",
    "        optimizer.step()\n",
    "\n",
    "        if batch % 100 == 0:\n",
    "            loss, current = loss.item(), batch * len(X)\n",
    "            print(f\"loss: {loss:>7f}  [{current:>5d}/{size:>5d}]\")"
   ]
  },
  {
   "cell_type": "code",
   "execution_count": 21,
   "id": "395d8d2d",
   "metadata": {
    "id": "395d8d2d"
   },
   "outputs": [],
   "source": [
    "def test_loop(dataloader, model, loss_fn, loss_list, acc_list):\n",
    "    size = len(dataloader.dataset)\n",
    "    num_batches = len(dataloader)\n",
    "    test_loss, correct = 0, 0\n",
    "\n",
    "    with torch.no_grad():\n",
    "        for X, y in dataloader:\n",
    "            X,y = X.to(device),y.to(device)\n",
    "            pred = model(X)\n",
    "            test_loss += loss_fn(pred, y).item()\n",
    "            correct += (pred.argmax(1) == y.argmax(1)).type(torch.float).sum().item()\n",
    "\n",
    "    test_loss /= num_batches\n",
    "    correct /= size\n",
    "    loss_list.append(test_loss)\n",
    "    acc_list.append(correct)\n",
    "    print(f\"Test Error: \\n Accuracy: {(100*correct):>0.1f}%, Avg loss: {test_loss:>8f} \\n\")"
   ]
  },
  {
   "cell_type": "code",
   "execution_count": null,
   "id": "eff14839",
   "metadata": {
    "id": "eff14839"
   },
   "outputs": [],
   "source": [
    "loss_list = []\n",
    "acc_list = []"
   ]
  },
  {
   "cell_type": "code",
   "execution_count": null,
   "id": "251a8d48",
   "metadata": {
    "id": "251a8d48"
   },
   "outputs": [],
   "source": [
    "loss_listm = []\n",
    "acc_listm = []"
   ]
  },
  {
   "cell_type": "code",
   "execution_count": null,
   "id": "dbb63726",
   "metadata": {
    "id": "dbb63726"
   },
   "outputs": [],
   "source": [
    "loss_listT = []\n",
    "acc_listT = []"
   ]
  },
  {
   "cell_type": "code",
   "execution_count": 22,
   "id": "41ec5da7",
   "metadata": {
    "id": "41ec5da7"
   },
   "outputs": [],
   "source": [
    "loss_listmn = []\n",
    "acc_listmn = []"
   ]
  },
  {
   "cell_type": "code",
   "execution_count": null,
   "id": "4d1e2278",
   "metadata": {
    "colab": {
     "base_uri": "https://localhost:8080/"
    },
    "id": "4d1e2278",
    "outputId": "d95da05d-93f4-4d87-84b2-ef32dc2adc65"
   },
   "outputs": [
    {
     "name": "stdout",
     "output_type": "stream",
     "text": [
      "1.0000000000000002e-06\n"
     ]
    }
   ],
   "source": [
    "learning_rate/=10\n",
    "print(learning_rate)\n",
    "#optimizer = torch.optim.SGD(model.parameters(), lr=learning_rate, momentum=0.8)\n",
    "optimizer = torch.optim.Adam(model.parameters(), lr=learning_rate, betas=(0.9,0.99))"
   ]
  },
  {
   "cell_type": "code",
   "execution_count": 45,
   "id": "be03d05b",
   "metadata": {
    "colab": {
     "base_uri": "https://localhost:8080/"
    },
    "id": "be03d05b",
    "outputId": "7cf9d728-1072-43c4-f958-44dd65249a19"
   },
   "outputs": [
    {
     "name": "stderr",
     "output_type": "stream",
     "text": [
      "  0%|                                                                                           | 0/20 [00:00<?, ?it/s]C:\\Users\\Артур\\AppData\\Local\\Temp\\ipykernel_14220\\755860063.py:12: DeprecationWarning: `np.int` is a deprecated alias for the builtin `int`. To silence this warning, use `int` by itself. Doing this will not modify any behavior and is safe. When replacing `np.int`, you may wish to use e.g. `np.int64` or `np.int32` to specify the precision. If you wish to review your current use, check the release note link for additional information.\n",
      "Deprecated in NumPy 1.20; for more details and guidance: https://numpy.org/devdocs/release/1.20.0-notes.html#deprecations\n",
      "  cut_w = np.int(W * cut_rat)\n",
      "C:\\Users\\Артур\\AppData\\Local\\Temp\\ipykernel_14220\\755860063.py:13: DeprecationWarning: `np.int` is a deprecated alias for the builtin `int`. To silence this warning, use `int` by itself. Doing this will not modify any behavior and is safe. When replacing `np.int`, you may wish to use e.g. `np.int64` or `np.int32` to specify the precision. If you wish to review your current use, check the release note link for additional information.\n",
      "Deprecated in NumPy 1.20; for more details and guidance: https://numpy.org/devdocs/release/1.20.0-notes.html#deprecations\n",
      "  cut_h = np.int(H * cut_rat)\n"
     ]
    },
    {
     "name": "stdout",
     "output_type": "stream",
     "text": [
      "Epoch 1\n",
      "-------------------------------\n",
      "loss: 3.612318  [    0/50000]\n",
      "loss: 2.650053  [ 6400/50000]\n",
      "loss: 3.778284  [12800/50000]\n",
      "loss: 3.333629  [19200/50000]\n",
      "loss: 3.068008  [25600/50000]\n",
      "loss: 3.121853  [32000/50000]\n",
      "loss: 3.734871  [38400/50000]\n",
      "loss: 2.878340  [44800/50000]\n"
     ]
    },
    {
     "name": "stderr",
     "output_type": "stream",
     "text": [
      "\r",
      "  5%|████▏                                                                              | 1/20 [00:15<05:02, 15.94s/it]"
     ]
    },
    {
     "name": "stdout",
     "output_type": "stream",
     "text": [
      "Test Error: \n",
      " Accuracy: 30.7%, Avg loss: 2.808287 \n",
      "\n",
      "Epoch 2\n",
      "-------------------------------\n",
      "loss: 2.528758  [    0/50000]\n",
      "loss: 3.988319  [ 6400/50000]\n",
      "loss: 2.776266  [12800/50000]\n",
      "loss: 2.946657  [19200/50000]\n",
      "loss: 3.440469  [25600/50000]\n",
      "loss: 3.466757  [32000/50000]\n",
      "loss: 3.610534  [38400/50000]\n",
      "loss: 3.377908  [44800/50000]\n"
     ]
    },
    {
     "name": "stderr",
     "output_type": "stream",
     "text": [
      "\r",
      " 10%|████████▎                                                                          | 2/20 [00:32<04:48, 16.01s/it]"
     ]
    },
    {
     "name": "stdout",
     "output_type": "stream",
     "text": [
      "Test Error: \n",
      " Accuracy: 27.4%, Avg loss: 2.968986 \n",
      "\n",
      "Epoch 3\n",
      "-------------------------------\n",
      "loss: 3.519220  [    0/50000]\n",
      "loss: 3.736002  [ 6400/50000]\n"
     ]
    },
    {
     "name": "stderr",
     "output_type": "stream",
     "text": [
      " 10%|████████▎                                                                          | 2/20 [00:35<05:18, 17.67s/it]\n"
     ]
    },
    {
     "ename": "KeyboardInterrupt",
     "evalue": "",
     "output_type": "error",
     "traceback": [
      "\u001b[1;31m---------------------------------------------------------------------------\u001b[0m",
      "\u001b[1;31mKeyboardInterrupt\u001b[0m                         Traceback (most recent call last)",
      "Cell \u001b[1;32mIn[45], line 5\u001b[0m\n\u001b[0;32m      3\u001b[0m \u001b[38;5;28mprint\u001b[39m(\u001b[38;5;124mf\u001b[39m\u001b[38;5;124m\"\u001b[39m\u001b[38;5;124mEpoch \u001b[39m\u001b[38;5;132;01m{\u001b[39;00mt\u001b[38;5;241m+\u001b[39m\u001b[38;5;241m1\u001b[39m\u001b[38;5;132;01m}\u001b[39;00m\u001b[38;5;130;01m\\n\u001b[39;00m\u001b[38;5;124m-------------------------------\u001b[39m\u001b[38;5;124m\"\u001b[39m)\n\u001b[0;32m      4\u001b[0m model\u001b[38;5;241m.\u001b[39mtrain(\u001b[38;5;28;01mTrue\u001b[39;00m)\n\u001b[1;32m----> 5\u001b[0m \u001b[43mtrain_loop\u001b[49m\u001b[43m(\u001b[49m\u001b[43mtrain_dataloader\u001b[49m\u001b[43m,\u001b[49m\u001b[43m \u001b[49m\u001b[43mmodel\u001b[49m\u001b[43m,\u001b[49m\u001b[43m \u001b[49m\u001b[43mloss_fn\u001b[49m\u001b[43m,\u001b[49m\u001b[43m \u001b[49m\u001b[43moptimizer\u001b[49m\u001b[43m)\u001b[49m\n\u001b[0;32m      6\u001b[0m model\u001b[38;5;241m.\u001b[39mtrain(\u001b[38;5;28;01mFalse\u001b[39;00m)\n\u001b[0;32m      7\u001b[0m test_loop(test_dataloader, model, loss_fn, loss_listmn, acc_listmn)\n",
      "Cell \u001b[1;32mIn[44], line 7\u001b[0m, in \u001b[0;36mtrain_loop\u001b[1;34m(dataloader, model, loss_fn, optimizer)\u001b[0m\n\u001b[0;32m      4\u001b[0m \u001b[38;5;28;01mfor\u001b[39;00m batch, (X, y) \u001b[38;5;129;01min\u001b[39;00m \u001b[38;5;28menumerate\u001b[39m(dataloader):\n\u001b[0;32m      5\u001b[0m     \u001b[38;5;66;03m# Получаем предсказания модели для данного батча\u001b[39;00m\n\u001b[0;32m      6\u001b[0m     X, y \u001b[38;5;241m=\u001b[39m generate_cutmix_image(X, y, \u001b[38;5;241m1.0\u001b[39m)\n\u001b[1;32m----> 7\u001b[0m     X,y \u001b[38;5;241m=\u001b[39m \u001b[43mX\u001b[49m\u001b[38;5;241;43m.\u001b[39;49m\u001b[43mto\u001b[49m\u001b[43m(\u001b[49m\u001b[43mdevice\u001b[49m\u001b[43m)\u001b[49m,y\u001b[38;5;241m.\u001b[39mto(device)\n\u001b[0;32m      8\u001b[0m     pred \u001b[38;5;241m=\u001b[39m model(X)\n\u001b[0;32m      9\u001b[0m     \u001b[38;5;66;03m# Вычисляем лосс\u001b[39;00m\n",
      "\u001b[1;31mKeyboardInterrupt\u001b[0m: "
     ]
    }
   ],
   "source": [
    "epochs = 20\n",
    "for t in tqdm(range(epochs)):\n",
    "    print(f\"Epoch {t+1}\\n-------------------------------\")\n",
    "    model.train(True)\n",
    "    train_loop(train_dataloader, model, loss_fn, optimizer)\n",
    "    model.train(False)\n",
    "    test_loop(test_dataloader, model, loss_fn, loss_listmn, acc_listmn)\n",
    "print(\"Done!\")"
   ]
  },
  {
   "cell_type": "code",
   "execution_count": null,
   "id": "bf534b96",
   "metadata": {},
   "outputs": [],
   "source": []
  },
  {
   "cell_type": "code",
   "execution_count": null,
   "id": "3ed1c66a",
   "metadata": {
    "colab": {
     "base_uri": "https://localhost:8080/",
     "height": 189
    },
    "id": "3ed1c66a",
    "outputId": "bc8a85e1-9ab3-42a7-ab44-4f14bdc42928"
   },
   "outputs": [
    {
     "ename": "ValueError",
     "evalue": "ignored",
     "output_type": "error",
     "traceback": [
      "\u001b[0;31m---------------------------------------------------------------------------\u001b[0m",
      "\u001b[0;31mValueError\u001b[0m                                Traceback (most recent call last)",
      "\u001b[0;32m<ipython-input-151-624aec034bf3>\u001b[0m in \u001b[0;36m<cell line: 1>\u001b[0;34m()\u001b[0m\n\u001b[0;32m----> 1\u001b[0;31m \u001b[0mprint\u001b[0m\u001b[0;34m(\u001b[0m\u001b[0mmax\u001b[0m\u001b[0;34m(\u001b[0m\u001b[0macc_listmn\u001b[0m\u001b[0;34m)\u001b[0m\u001b[0;34m)\u001b[0m\u001b[0;34m\u001b[0m\u001b[0;34m\u001b[0m\u001b[0m\n\u001b[0m\u001b[1;32m      2\u001b[0m \u001b[0mplt\u001b[0m\u001b[0;34m.\u001b[0m\u001b[0mplot\u001b[0m\u001b[0;34m(\u001b[0m\u001b[0macc_listmn\u001b[0m\u001b[0;34m)\u001b[0m\u001b[0;34m\u001b[0m\u001b[0;34m\u001b[0m\u001b[0m\n",
      "\u001b[0;31mValueError\u001b[0m: max() arg is an empty sequence"
     ]
    }
   ],
   "source": [
    "\n",
    "print(max(acc_listmn))\n",
    "plt.plot(acc_listmn)"
   ]
  },
  {
   "cell_type": "code",
   "execution_count": null,
   "id": "AMvjAERrSkMb",
   "metadata": {
    "colab": {
     "base_uri": "https://localhost:8080/",
     "height": 448
    },
    "id": "AMvjAERrSkMb",
    "outputId": "0351e398-709d-4f4f-d148-cca3ffb64abe"
   },
   "outputs": [
    {
     "data": {
      "text/plain": [
       "[<matplotlib.lines.Line2D at 0x7fd8ff0a67f0>]"
      ]
     },
     "execution_count": 94,
     "metadata": {},
     "output_type": "execute_result"
    },
    {
     "data": {
      "image/png": "[encoded data removed]",
      "text/plain": [
       "<Figure size 640x480 with 1 Axes>"
      ]
     },
     "metadata": {},
     "output_type": "display_data"
    }
   ],
   "source": [
    "plt.plot(loss_listmn[110:])"
   ]
  },
  {
   "cell_type": "code",
   "execution_count": null,
   "id": "43908669",
   "metadata": {
    "id": "43908669",
    "outputId": "0508c80c-2d26-4001-bf24-1f9a79a5cc41"
   },
   "outputs": [
    {
     "data": {
      "text/plain": [
       "[<matplotlib.lines.Line2D at 0x186508e74c0>]"
      ]
     },
     "execution_count": 551,
     "metadata": {},
     "output_type": "execute_result"
    },
    {
     "data": {
      "image/png": "[encoded data removed]",
      "text/plain": [
       "<Figure size 640x480 with 1 Axes>"
      ]
     },
     "metadata": {},
     "output_type": "display_data"
    }
   ],
   "source": [
    "plt.title('loss')\n",
    "plt.plot(loss_list)\n",
    "plt.plot(loss_listm)\n",
    "plt.plot(loss_listT)"
   ]
  },
  {
   "cell_type": "code",
   "execution_count": null,
   "id": "ed4f8a7d",
   "metadata": {
    "id": "ed4f8a7d",
    "outputId": "428373e7-2c2c-4906-de25-ae14ca668a1f"
   },
   "outputs": [
    {
     "data": {
      "text/plain": [
       "[<matplotlib.lines.Line2D at 0x18636c5d300>]"
      ]
     },
     "execution_count": 538,
     "metadata": {},
     "output_type": "execute_result"
    },
    {
     "data": {
      "image/png": "[encoded data removed]",
      "text/plain": [
       "<Figure size 640x480 with 1 Axes>"
      ]
     },
     "metadata": {},
     "output_type": "display_data"
    }
   ],
   "source": [
    "plt.title('acc')\n",
    "plt.plot(acc_list)\n",
    "plt.plot(acc_listm)\n",
    "plt.plot(acc_listT)\n",
    "plt.plot(acc_listmn)"
   ]
  },
  {
   "cell_type": "code",
   "execution_count": null,
   "id": "b5e44eef",
   "metadata": {
    "id": "b5e44eef"
   },
   "outputs": [],
   "source": []
  }
 ],
 "metadata": {
  "accelerator": "GPU",
  "colab": {
   "provenance": []
  },
  "gpuClass": "standard",
  "kernelspec": {
   "display_name": "Python 3 (ipykernel)",
   "language": "python",
   "name": "python3"
  },
  "language_info": {
   "codemirror_mode": {
    "name": "ipython",
    "version": 3
   },
   "file_extension": ".py",
   "mimetype": "text/x-python",
   "name": "python",
   "nbconvert_exporter": "python",
   "pygments_lexer": "ipython3",
   "version": "3.10.8"
  }
 },
 "nbformat": 4,
 "nbformat_minor": 5
}
